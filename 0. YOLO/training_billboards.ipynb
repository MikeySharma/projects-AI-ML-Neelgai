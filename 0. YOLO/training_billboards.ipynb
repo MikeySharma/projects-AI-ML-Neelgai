{
 "cells": [
  {
   "cell_type": "markdown",
   "id": "1fd8dd68",
   "metadata": {
    "papermill": {
     "duration": 0.003558,
     "end_time": "2024-04-28T16:55:24.613302",
     "exception": false,
     "start_time": "2024-04-28T16:55:24.609744",
     "status": "completed"
    },
    "tags": []
   },
   "source": [
    "# Import Libraries"
   ]
  },
  {
   "cell_type": "code",
   "execution_count": 1,
   "id": "330a32a4",
   "metadata": {
    "execution": {
     "iopub.execute_input": "2024-04-28T16:55:24.621055Z",
     "iopub.status.busy": "2024-04-28T16:55:24.620718Z",
     "iopub.status.idle": "2024-04-28T16:55:40.920483Z",
     "shell.execute_reply": "2024-04-28T16:55:40.919234Z"
    },
    "papermill": {
     "duration": 16.306454,
     "end_time": "2024-04-28T16:55:40.923012",
     "exception": false,
     "start_time": "2024-04-28T16:55:24.616558",
     "status": "completed"
    },
    "tags": []
   },
   "outputs": [],
   "source": [
    "!pip install ultralytics --quiet"
   ]
  },
  {
   "cell_type": "code",
   "execution_count": 2,
   "id": "8ea341d1",
   "metadata": {
    "execution": {
     "iopub.execute_input": "2024-04-28T16:55:40.930498Z",
     "iopub.status.busy": "2024-04-28T16:55:40.930190Z",
     "iopub.status.idle": "2024-04-28T16:55:41.073057Z",
     "shell.execute_reply": "2024-04-28T16:55:41.072264Z"
    },
    "papermill": {
     "duration": 0.149066,
     "end_time": "2024-04-28T16:55:41.075262",
     "exception": false,
     "start_time": "2024-04-28T16:55:40.926196",
     "status": "completed"
    },
    "tags": []
   },
   "outputs": [],
   "source": [
    "import os\n",
    "import shutil\n",
    "import random\n",
    "from tqdm.notebook import tqdm"
   ]
  },
  {
   "cell_type": "markdown",
   "id": "b966204a",
   "metadata": {
    "papermill": {
     "duration": 0.002694,
     "end_time": "2024-04-28T16:55:41.081039",
     "exception": false,
     "start_time": "2024-04-28T16:55:41.078345",
     "status": "completed"
    },
    "tags": []
   },
   "source": [
    "# Import Ultralytics"
   ]
  },
  {
   "cell_type": "code",
   "execution_count": 3,
   "id": "15a3b902",
   "metadata": {
    "execution": {
     "iopub.execute_input": "2024-04-28T16:55:41.087987Z",
     "iopub.status.busy": "2024-04-28T16:55:41.087651Z",
     "iopub.status.idle": "2024-04-28T16:55:52.614515Z",
     "shell.execute_reply": "2024-04-28T16:55:52.613570Z"
    },
    "papermill": {
     "duration": 11.532642,
     "end_time": "2024-04-28T16:55:52.616494",
     "exception": false,
     "start_time": "2024-04-28T16:55:41.083852",
     "status": "completed"
    },
    "tags": []
   },
   "outputs": [
    {
     "name": "stdout",
     "output_type": "stream",
     "text": [
      "Ultralytics YOLOv8.2.4 🚀 Python-3.10.13 torch-2.1.2 CUDA:0 (Tesla T4, 15102MiB)\n",
      "Setup complete ✅ (4 CPUs, 31.4 GB RAM, 5597.6/8062.4 GB disk)\n"
     ]
    }
   ],
   "source": [
    "import ultralytics\n",
    "from ultralytics import YOLO\n",
    "ultralytics.checks()"
   ]
  },
  {
   "cell_type": "code",
   "execution_count": 4,
   "id": "7fdabe20",
   "metadata": {
    "execution": {
     "iopub.execute_input": "2024-04-28T16:55:52.624624Z",
     "iopub.status.busy": "2024-04-28T16:55:52.623713Z",
     "iopub.status.idle": "2024-04-28T16:55:53.275392Z",
     "shell.execute_reply": "2024-04-28T16:55:53.274438Z"
    },
    "papermill": {
     "duration": 0.657719,
     "end_time": "2024-04-28T16:55:53.277500",
     "exception": false,
     "start_time": "2024-04-28T16:55:52.619781",
     "status": "completed"
    },
    "tags": []
   },
   "outputs": [
    {
     "name": "stdout",
     "output_type": "stream",
     "text": [
      "Downloading https://github.com/ultralytics/assets/releases/download/v8.2.0/yolov8n.pt to 'yolov8n.pt'...\n"
     ]
    },
    {
     "name": "stderr",
     "output_type": "stream",
     "text": [
      "100%|██████████| 6.23M/6.23M [00:00<00:00, 74.0MB/s]\n"
     ]
    }
   ],
   "source": [
    "model = YOLO('yolov8m.pt')"
   ]
  },
  {
   "cell_type": "code",
   "execution_count": 5,
   "id": "3a3f23d1",
   "metadata": {
    "execution": {
     "iopub.execute_input": "2024-04-28T16:55:53.287058Z",
     "iopub.status.busy": "2024-04-28T16:55:53.286424Z",
     "iopub.status.idle": "2024-04-28T17:43:00.706254Z",
     "shell.execute_reply": "2024-04-28T17:43:00.705336Z"
    },
    "papermill": {
     "duration": 2827.431081,
     "end_time": "2024-04-28T17:43:00.712854",
     "exception": false,
     "start_time": "2024-04-28T16:55:53.281773",
     "status": "completed"
    },
    "tags": []
   },
   "outputs": [
    {
     "name": "stdout",
     "output_type": "stream",
     "text": [
      "Ultralytics YOLOv8.2.4 🚀 Python-3.10.13 torch-2.1.2 CUDA:0 (Tesla T4, 15102MiB)\n",
      "\u001b[34m\u001b[1mengine/trainer: \u001b[0mtask=detect, mode=train, model=yolov8n.pt, data=/kaggle/input/billboard/datasets/dataset.yaml, epochs=111, time=None, patience=11, batch=16, imgsz=640, save=True, save_period=-1, cache=False, device=None, workers=8, project=None, name=train, exist_ok=False, pretrained=True, optimizer=auto, verbose=True, seed=0, deterministic=True, single_cls=False, rect=False, cos_lr=False, close_mosaic=10, resume=False, amp=True, fraction=1.0, profile=False, freeze=None, multi_scale=False, overlap_mask=True, mask_ratio=4, dropout=0.0, val=True, split=val, save_json=False, save_hybrid=False, conf=None, iou=0.7, max_det=300, half=False, dnn=False, plots=True, source=None, vid_stride=1, stream_buffer=False, visualize=False, augment=False, agnostic_nms=False, classes=None, retina_masks=False, embed=None, show=False, save_frames=False, save_txt=False, save_conf=False, save_crop=False, show_labels=True, show_conf=True, show_boxes=True, line_width=None, format=torchscript, keras=False, optimize=False, int8=False, dynamic=False, simplify=False, opset=None, workspace=4, nms=False, lr0=0.01, lrf=0.01, momentum=0.937, weight_decay=0.0005, warmup_epochs=3.0, warmup_momentum=0.8, warmup_bias_lr=0.1, box=7.5, cls=0.5, dfl=1.5, pose=12.0, kobj=1.0, label_smoothing=0.0, nbs=64, hsv_h=0.015, hsv_s=0.7, hsv_v=0.4, degrees=0.0, translate=0.1, scale=0.5, shear=0.0, perspective=0.0, flipud=0.0, fliplr=0.5, bgr=0.0, mosaic=1.0, mixup=0.0, copy_paste=0.0, auto_augment=randaugment, erasing=0.4, crop_fraction=1.0, cfg=None, tracker=botsort.yaml, save_dir=runs/detect/train\n",
      "Downloading https://ultralytics.com/assets/Arial.ttf to '/root/.config/Ultralytics/Arial.ttf'...\n"
     ]
    },
    {
     "name": "stderr",
     "output_type": "stream",
     "text": [
      "100%|██████████| 755k/755k [00:00<00:00, 13.6MB/s]\n",
      "2024-04-28 16:55:56,525\tINFO util.py:124 -- Outdated packages:\n",
      "  ipywidgets==7.7.1 found, needs ipywidgets>=8\n",
      "Run `pip install -U ipywidgets`, then restart the notebook server for rich notebook output.\n",
      "2024-04-28 16:55:58,780\tINFO util.py:124 -- Outdated packages:\n",
      "  ipywidgets==7.7.1 found, needs ipywidgets>=8\n",
      "Run `pip install -U ipywidgets`, then restart the notebook server for rich notebook output.\n",
      "2024-04-28 16:56:02.922762: E external/local_xla/xla/stream_executor/cuda/cuda_dnn.cc:9261] Unable to register cuDNN factory: Attempting to register factory for plugin cuDNN when one has already been registered\n",
      "2024-04-28 16:56:02.922878: E external/local_xla/xla/stream_executor/cuda/cuda_fft.cc:607] Unable to register cuFFT factory: Attempting to register factory for plugin cuFFT when one has already been registered\n",
      "2024-04-28 16:56:03.209168: E external/local_xla/xla/stream_executor/cuda/cuda_blas.cc:1515] Unable to register cuBLAS factory: Attempting to register factory for plugin cuBLAS when one has already been registered\n"
     ]
    },
    {
     "name": "stdout",
     "output_type": "stream",
     "text": [
      "Overriding model.yaml nc=80 with nc=1\n",
      "\n",
      "                   from  n    params  module                                       arguments                     \n",
      "  0                  -1  1       464  ultralytics.nn.modules.conv.Conv             [3, 16, 3, 2]                 \n",
      "  1                  -1  1      4672  ultralytics.nn.modules.conv.Conv             [16, 32, 3, 2]                \n",
      "  2                  -1  1      7360  ultralytics.nn.modules.block.C2f             [32, 32, 1, True]             \n",
      "  3                  -1  1     18560  ultralytics.nn.modules.conv.Conv             [32, 64, 3, 2]                \n",
      "  4                  -1  2     49664  ultralytics.nn.modules.block.C2f             [64, 64, 2, True]             \n",
      "  5                  -1  1     73984  ultralytics.nn.modules.conv.Conv             [64, 128, 3, 2]               \n",
      "  6                  -1  2    197632  ultralytics.nn.modules.block.C2f             [128, 128, 2, True]           \n",
      "  7                  -1  1    295424  ultralytics.nn.modules.conv.Conv             [128, 256, 3, 2]              \n",
      "  8                  -1  1    460288  ultralytics.nn.modules.block.C2f             [256, 256, 1, True]           \n",
      "  9                  -1  1    164608  ultralytics.nn.modules.block.SPPF            [256, 256, 5]                 \n",
      " 10                  -1  1         0  torch.nn.modules.upsampling.Upsample         [None, 2, 'nearest']          \n",
      " 11             [-1, 6]  1         0  ultralytics.nn.modules.conv.Concat           [1]                           \n",
      " 12                  -1  1    148224  ultralytics.nn.modules.block.C2f             [384, 128, 1]                 \n",
      " 13                  -1  1         0  torch.nn.modules.upsampling.Upsample         [None, 2, 'nearest']          \n",
      " 14             [-1, 4]  1         0  ultralytics.nn.modules.conv.Concat           [1]                           \n",
      " 15                  -1  1     37248  ultralytics.nn.modules.block.C2f             [192, 64, 1]                  \n",
      " 16                  -1  1     36992  ultralytics.nn.modules.conv.Conv             [64, 64, 3, 2]                \n",
      " 17            [-1, 12]  1         0  ultralytics.nn.modules.conv.Concat           [1]                           \n",
      " 18                  -1  1    123648  ultralytics.nn.modules.block.C2f             [192, 128, 1]                 \n",
      " 19                  -1  1    147712  ultralytics.nn.modules.conv.Conv             [128, 128, 3, 2]              \n",
      " 20             [-1, 9]  1         0  ultralytics.nn.modules.conv.Concat           [1]                           \n",
      " 21                  -1  1    493056  ultralytics.nn.modules.block.C2f             [384, 256, 1]                 \n",
      " 22        [15, 18, 21]  1    751507  ultralytics.nn.modules.head.Detect           [1, [64, 128, 256]]           \n",
      "Model summary: 225 layers, 3011043 parameters, 3011027 gradients, 8.2 GFLOPs\n",
      "\n",
      "Transferred 319/355 items from pretrained weights\n",
      "\u001b[34m\u001b[1mTensorBoard: \u001b[0mStart with 'tensorboard --logdir runs/detect/train', view at http://localhost:6006/\n",
      "Freezing layer 'model.22.dfl.conv.weight'\n",
      "\u001b[34m\u001b[1mAMP: \u001b[0mrunning Automatic Mixed Precision (AMP) checks with YOLOv8n...\n",
      "\u001b[34m\u001b[1mAMP: \u001b[0mchecks passed ✅\n"
     ]
    },
    {
     "name": "stderr",
     "output_type": "stream",
     "text": [
      "\u001b[34m\u001b[1mtrain: \u001b[0mScanning /kaggle/input/billboard/datasets/train/labels... 2719 images, 0 backgrounds, 0 corrupt: 100%|██████████| 2719/2719 [00:10<00:00, 264.66it/s]\n"
     ]
    },
    {
     "name": "stdout",
     "output_type": "stream",
     "text": [
      "\u001b[34m\u001b[1mtrain: \u001b[0mWARNING ⚠️ Cache directory /kaggle/input/billboard/datasets/train is not writeable, cache not saved.\n",
      "\u001b[34m\u001b[1malbumentations: \u001b[0mBlur(p=0.01, blur_limit=(3, 7)), MedianBlur(p=0.01, blur_limit=(3, 7)), ToGray(p=0.01), CLAHE(p=0.01, clip_limit=(1, 4.0), tile_grid_size=(8, 8))\n"
     ]
    },
    {
     "name": "stderr",
     "output_type": "stream",
     "text": [
      "\u001b[34m\u001b[1mval: \u001b[0mScanning /kaggle/input/billboard/datasets/valid/labels... 510 images, 0 backgrounds, 0 corrupt: 100%|██████████| 510/510 [00:01<00:00, 271.08it/s]\n"
     ]
    },
    {
     "name": "stdout",
     "output_type": "stream",
     "text": [
      "\u001b[34m\u001b[1mval: \u001b[0mWARNING ⚠️ Cache directory /kaggle/input/billboard/datasets/valid is not writeable, cache not saved.\n",
      "Plotting labels to runs/detect/train/labels.jpg... \n",
      "\u001b[34m\u001b[1moptimizer:\u001b[0m 'optimizer=auto' found, ignoring 'lr0=0.01' and 'momentum=0.937' and determining best 'optimizer', 'lr0' and 'momentum' automatically... \n",
      "\u001b[34m\u001b[1moptimizer:\u001b[0m AdamW(lr=0.002, momentum=0.9) with parameter groups 57 weight(decay=0.0), 64 weight(decay=0.0005), 63 bias(decay=0.0)\n",
      "\u001b[34m\u001b[1mTensorBoard: \u001b[0mmodel graph visualization added ✅\n",
      "Image sizes 640 train, 640 val\n",
      "Using 2 dataloader workers\n",
      "Logging results to \u001b[1mruns/detect/train\u001b[0m\n",
      "Starting training for 111 epochs...\n",
      "\n",
      "      Epoch    GPU_mem   box_loss   cls_loss   dfl_loss  Instances       Size\n"
     ]
    },
    {
     "name": "stderr",
     "output_type": "stream",
     "text": [
      "      1/111       2.3G      1.367      1.974      1.425         55        640: 100%|██████████| 170/170 [00:38<00:00,  4.38it/s]\n",
      "                 Class     Images  Instances      Box(P          R      mAP50  mAP50-95): 100%|██████████| 16/16 [00:05<00:00,  2.96it/s]"
     ]
    },
    {
     "name": "stdout",
     "output_type": "stream",
     "text": [
      "                   all        510       1404       0.45      0.416      0.392      0.184\n"
     ]
    },
    {
     "name": "stderr",
     "output_type": "stream",
     "text": [
      "\n"
     ]
    },
    {
     "name": "stdout",
     "output_type": "stream",
     "text": [
      "\n",
      "      Epoch    GPU_mem   box_loss   cls_loss   dfl_loss  Instances       Size\n"
     ]
    },
    {
     "name": "stderr",
     "output_type": "stream",
     "text": [
      "      2/111      2.46G      1.472      1.739       1.53         81        640: 100%|██████████| 170/170 [00:32<00:00,  5.20it/s]\n",
      "                 Class     Images  Instances      Box(P          R      mAP50  mAP50-95): 100%|██████████| 16/16 [00:03<00:00,  4.67it/s]"
     ]
    },
    {
     "name": "stdout",
     "output_type": "stream",
     "text": [
      "                   all        510       1404      0.508       0.41      0.409        0.2\n"
     ]
    },
    {
     "name": "stderr",
     "output_type": "stream",
     "text": [
      "\n"
     ]
    },
    {
     "name": "stdout",
     "output_type": "stream",
     "text": [
      "\n",
      "      Epoch    GPU_mem   box_loss   cls_loss   dfl_loss  Instances       Size\n"
     ]
    },
    {
     "name": "stderr",
     "output_type": "stream",
     "text": [
      "      3/111      2.17G      1.527      1.725      1.579         89        640: 100%|██████████| 170/170 [00:33<00:00,  5.15it/s]\n",
      "                 Class     Images  Instances      Box(P          R      mAP50  mAP50-95): 100%|██████████| 16/16 [00:03<00:00,  4.08it/s]"
     ]
    },
    {
     "name": "stdout",
     "output_type": "stream",
     "text": [
      "                   all        510       1404      0.448      0.447      0.364       0.18\n"
     ]
    },
    {
     "name": "stderr",
     "output_type": "stream",
     "text": [
      "\n"
     ]
    },
    {
     "name": "stdout",
     "output_type": "stream",
     "text": [
      "\n",
      "      Epoch    GPU_mem   box_loss   cls_loss   dfl_loss  Instances       Size\n"
     ]
    },
    {
     "name": "stderr",
     "output_type": "stream",
     "text": [
      "      4/111      2.34G      1.523      1.644      1.575         69        640: 100%|██████████| 170/170 [00:32<00:00,  5.19it/s]\n",
      "                 Class     Images  Instances      Box(P          R      mAP50  mAP50-95): 100%|██████████| 16/16 [00:03<00:00,  4.38it/s]\n"
     ]
    },
    {
     "name": "stdout",
     "output_type": "stream",
     "text": [
      "                   all        510       1404      0.523      0.432      0.437      0.206\n",
      "\n",
      "      Epoch    GPU_mem   box_loss   cls_loss   dfl_loss  Instances       Size\n"
     ]
    },
    {
     "name": "stderr",
     "output_type": "stream",
     "text": [
      "      5/111      2.26G      1.483      1.586      1.535         83        640: 100%|██████████| 170/170 [00:32<00:00,  5.21it/s]\n",
      "                 Class     Images  Instances      Box(P          R      mAP50  mAP50-95): 100%|██████████| 16/16 [00:03<00:00,  4.61it/s]"
     ]
    },
    {
     "name": "stdout",
     "output_type": "stream",
     "text": [
      "                   all        510       1404      0.558      0.414      0.443      0.223\n"
     ]
    },
    {
     "name": "stderr",
     "output_type": "stream",
     "text": [
      "\n"
     ]
    },
    {
     "name": "stdout",
     "output_type": "stream",
     "text": [
      "\n",
      "      Epoch    GPU_mem   box_loss   cls_loss   dfl_loss  Instances       Size\n"
     ]
    },
    {
     "name": "stderr",
     "output_type": "stream",
     "text": [
      "      6/111      2.26G      1.479      1.561      1.536         83        640: 100%|██████████| 170/170 [00:32<00:00,  5.24it/s]\n",
      "                 Class     Images  Instances      Box(P          R      mAP50  mAP50-95): 100%|██████████| 16/16 [00:03<00:00,  4.57it/s]\n"
     ]
    },
    {
     "name": "stdout",
     "output_type": "stream",
     "text": [
      "                   all        510       1404      0.541      0.481      0.492      0.267\n",
      "\n",
      "      Epoch    GPU_mem   box_loss   cls_loss   dfl_loss  Instances       Size\n"
     ]
    },
    {
     "name": "stderr",
     "output_type": "stream",
     "text": [
      "      7/111      2.45G      1.421      1.486      1.498         59        640: 100%|██████████| 170/170 [00:32<00:00,  5.22it/s]\n",
      "                 Class     Images  Instances      Box(P          R      mAP50  mAP50-95): 100%|██████████| 16/16 [00:03<00:00,  4.34it/s]"
     ]
    },
    {
     "name": "stdout",
     "output_type": "stream",
     "text": [
      "                   all        510       1404      0.544      0.528      0.494      0.267\n"
     ]
    },
    {
     "name": "stderr",
     "output_type": "stream",
     "text": [
      "\n"
     ]
    },
    {
     "name": "stdout",
     "output_type": "stream",
     "text": [
      "\n",
      "      Epoch    GPU_mem   box_loss   cls_loss   dfl_loss  Instances       Size\n"
     ]
    },
    {
     "name": "stderr",
     "output_type": "stream",
     "text": [
      "      8/111      2.62G      1.423      1.493      1.496         61        640: 100%|██████████| 170/170 [00:32<00:00,  5.17it/s]\n",
      "                 Class     Images  Instances      Box(P          R      mAP50  mAP50-95): 100%|██████████| 16/16 [00:03<00:00,  4.59it/s]"
     ]
    },
    {
     "name": "stdout",
     "output_type": "stream",
     "text": [
      "                   all        510       1404      0.611      0.547      0.578      0.315\n"
     ]
    },
    {
     "name": "stderr",
     "output_type": "stream",
     "text": [
      "\n"
     ]
    },
    {
     "name": "stdout",
     "output_type": "stream",
     "text": [
      "\n",
      "      Epoch    GPU_mem   box_loss   cls_loss   dfl_loss  Instances       Size\n"
     ]
    },
    {
     "name": "stderr",
     "output_type": "stream",
     "text": [
      "      9/111      2.27G      1.403      1.459      1.485         82        640: 100%|██████████| 170/170 [00:33<00:00,  5.11it/s]\n",
      "                 Class     Images  Instances      Box(P          R      mAP50  mAP50-95): 100%|██████████| 16/16 [00:03<00:00,  4.48it/s]"
     ]
    },
    {
     "name": "stdout",
     "output_type": "stream",
     "text": [
      "                   all        510       1404       0.57      0.486      0.498      0.261\n"
     ]
    },
    {
     "name": "stderr",
     "output_type": "stream",
     "text": [
      "\n"
     ]
    },
    {
     "name": "stdout",
     "output_type": "stream",
     "text": [
      "\n",
      "      Epoch    GPU_mem   box_loss   cls_loss   dfl_loss  Instances       Size\n"
     ]
    },
    {
     "name": "stderr",
     "output_type": "stream",
     "text": [
      "     10/111      2.29G      1.405      1.433      1.476         68        640: 100%|██████████| 170/170 [00:33<00:00,  5.11it/s]\n",
      "                 Class     Images  Instances      Box(P          R      mAP50  mAP50-95): 100%|██████████| 16/16 [00:03<00:00,  4.52it/s]\n"
     ]
    },
    {
     "name": "stdout",
     "output_type": "stream",
     "text": [
      "                   all        510       1404       0.64       0.53      0.591       0.33\n",
      "\n",
      "      Epoch    GPU_mem   box_loss   cls_loss   dfl_loss  Instances       Size\n"
     ]
    },
    {
     "name": "stderr",
     "output_type": "stream",
     "text": [
      "     11/111      2.54G      1.402      1.425       1.48         62        640: 100%|██████████| 170/170 [00:33<00:00,  5.09it/s]\n",
      "                 Class     Images  Instances      Box(P          R      mAP50  mAP50-95): 100%|██████████| 16/16 [00:03<00:00,  4.53it/s]"
     ]
    },
    {
     "name": "stdout",
     "output_type": "stream",
     "text": [
      "                   all        510       1404      0.636      0.542       0.57      0.327\n"
     ]
    },
    {
     "name": "stderr",
     "output_type": "stream",
     "text": [
      "\n"
     ]
    },
    {
     "name": "stdout",
     "output_type": "stream",
     "text": [
      "\n",
      "      Epoch    GPU_mem   box_loss   cls_loss   dfl_loss  Instances       Size\n"
     ]
    },
    {
     "name": "stderr",
     "output_type": "stream",
     "text": [
      "     12/111      2.29G      1.377       1.38      1.463         59        640: 100%|██████████| 170/170 [00:33<00:00,  5.11it/s]\n",
      "                 Class     Images  Instances      Box(P          R      mAP50  mAP50-95): 100%|██████████| 16/16 [00:03<00:00,  4.47it/s]"
     ]
    },
    {
     "name": "stdout",
     "output_type": "stream",
     "text": [
      "                   all        510       1404       0.61      0.535      0.571      0.322\n"
     ]
    },
    {
     "name": "stderr",
     "output_type": "stream",
     "text": [
      "\n"
     ]
    },
    {
     "name": "stdout",
     "output_type": "stream",
     "text": [
      "\n",
      "      Epoch    GPU_mem   box_loss   cls_loss   dfl_loss  Instances       Size\n"
     ]
    },
    {
     "name": "stderr",
     "output_type": "stream",
     "text": [
      "     13/111      2.45G      1.374      1.362      1.454        125        640: 100%|██████████| 170/170 [00:33<00:00,  5.14it/s]\n",
      "                 Class     Images  Instances      Box(P          R      mAP50  mAP50-95): 100%|██████████| 16/16 [00:03<00:00,  4.35it/s]"
     ]
    },
    {
     "name": "stdout",
     "output_type": "stream",
     "text": [
      "                   all        510       1404      0.549      0.555      0.517      0.294\n"
     ]
    },
    {
     "name": "stderr",
     "output_type": "stream",
     "text": [
      "\n"
     ]
    },
    {
     "name": "stdout",
     "output_type": "stream",
     "text": [
      "\n",
      "      Epoch    GPU_mem   box_loss   cls_loss   dfl_loss  Instances       Size\n"
     ]
    },
    {
     "name": "stderr",
     "output_type": "stream",
     "text": [
      "     14/111      2.29G      1.355      1.338      1.443         51        640: 100%|██████████| 170/170 [00:33<00:00,  5.15it/s]\n",
      "                 Class     Images  Instances      Box(P          R      mAP50  mAP50-95): 100%|██████████| 16/16 [00:03<00:00,  4.25it/s]\n"
     ]
    },
    {
     "name": "stdout",
     "output_type": "stream",
     "text": [
      "                   all        510       1404      0.618      0.535      0.566       0.32\n",
      "\n",
      "      Epoch    GPU_mem   box_loss   cls_loss   dfl_loss  Instances       Size\n"
     ]
    },
    {
     "name": "stderr",
     "output_type": "stream",
     "text": [
      "     15/111      2.45G      1.342      1.339      1.445         68        640: 100%|██████████| 170/170 [00:32<00:00,  5.16it/s]\n",
      "                 Class     Images  Instances      Box(P          R      mAP50  mAP50-95): 100%|██████████| 16/16 [00:03<00:00,  4.49it/s]\n"
     ]
    },
    {
     "name": "stdout",
     "output_type": "stream",
     "text": [
      "                   all        510       1404      0.545       0.51      0.484      0.274\n",
      "\n",
      "      Epoch    GPU_mem   box_loss   cls_loss   dfl_loss  Instances       Size\n"
     ]
    },
    {
     "name": "stderr",
     "output_type": "stream",
     "text": [
      "     16/111      2.44G      1.354      1.341      1.446         78        640: 100%|██████████| 170/170 [00:32<00:00,  5.21it/s]\n",
      "                 Class     Images  Instances      Box(P          R      mAP50  mAP50-95): 100%|██████████| 16/16 [00:03<00:00,  4.56it/s]"
     ]
    },
    {
     "name": "stdout",
     "output_type": "stream",
     "text": [
      "                   all        510       1404      0.601      0.525      0.581      0.337\n"
     ]
    },
    {
     "name": "stderr",
     "output_type": "stream",
     "text": [
      "\n"
     ]
    },
    {
     "name": "stdout",
     "output_type": "stream",
     "text": [
      "\n",
      "      Epoch    GPU_mem   box_loss   cls_loss   dfl_loss  Instances       Size\n"
     ]
    },
    {
     "name": "stderr",
     "output_type": "stream",
     "text": [
      "     17/111       2.3G      1.341        1.3      1.442         57        640: 100%|██████████| 170/170 [00:32<00:00,  5.19it/s]\n",
      "                 Class     Images  Instances      Box(P          R      mAP50  mAP50-95): 100%|██████████| 16/16 [00:03<00:00,  4.65it/s]"
     ]
    },
    {
     "name": "stdout",
     "output_type": "stream",
     "text": [
      "                   all        510       1404      0.597      0.588      0.606      0.348\n"
     ]
    },
    {
     "name": "stderr",
     "output_type": "stream",
     "text": [
      "\n"
     ]
    },
    {
     "name": "stdout",
     "output_type": "stream",
     "text": [
      "\n",
      "      Epoch    GPU_mem   box_loss   cls_loss   dfl_loss  Instances       Size\n"
     ]
    },
    {
     "name": "stderr",
     "output_type": "stream",
     "text": [
      "     18/111      2.29G      1.327      1.295      1.429         59        640: 100%|██████████| 170/170 [00:33<00:00,  5.09it/s]\n",
      "                 Class     Images  Instances      Box(P          R      mAP50  mAP50-95): 100%|██████████| 16/16 [00:03<00:00,  4.56it/s]"
     ]
    },
    {
     "name": "stdout",
     "output_type": "stream",
     "text": [
      "                   all        510       1404      0.666      0.544      0.619      0.367\n"
     ]
    },
    {
     "name": "stderr",
     "output_type": "stream",
     "text": [
      "\n"
     ]
    },
    {
     "name": "stdout",
     "output_type": "stream",
     "text": [
      "\n",
      "      Epoch    GPU_mem   box_loss   cls_loss   dfl_loss  Instances       Size\n"
     ]
    },
    {
     "name": "stderr",
     "output_type": "stream",
     "text": [
      "     19/111       2.3G      1.315      1.293      1.423         65        640: 100%|██████████| 170/170 [00:33<00:00,  5.06it/s]\n",
      "                 Class     Images  Instances      Box(P          R      mAP50  mAP50-95): 100%|██████████| 16/16 [00:03<00:00,  4.14it/s]"
     ]
    },
    {
     "name": "stdout",
     "output_type": "stream",
     "text": [
      "                   all        510       1404      0.611      0.562      0.594      0.343\n"
     ]
    },
    {
     "name": "stderr",
     "output_type": "stream",
     "text": [
      "\n"
     ]
    },
    {
     "name": "stdout",
     "output_type": "stream",
     "text": [
      "\n",
      "      Epoch    GPU_mem   box_loss   cls_loss   dfl_loss  Instances       Size\n"
     ]
    },
    {
     "name": "stderr",
     "output_type": "stream",
     "text": [
      "     20/111      2.29G      1.319      1.273      1.422         65        640: 100%|██████████| 170/170 [00:32<00:00,  5.21it/s]\n",
      "                 Class     Images  Instances      Box(P          R      mAP50  mAP50-95): 100%|██████████| 16/16 [00:03<00:00,  4.62it/s]\n"
     ]
    },
    {
     "name": "stdout",
     "output_type": "stream",
     "text": [
      "                   all        510       1404      0.581       0.58       0.59      0.345\n",
      "\n",
      "      Epoch    GPU_mem   box_loss   cls_loss   dfl_loss  Instances       Size\n"
     ]
    },
    {
     "name": "stderr",
     "output_type": "stream",
     "text": [
      "     21/111      2.48G       1.32      1.255      1.424        103        640: 100%|██████████| 170/170 [00:32<00:00,  5.17it/s]\n",
      "                 Class     Images  Instances      Box(P          R      mAP50  mAP50-95): 100%|██████████| 16/16 [00:03<00:00,  4.46it/s]\n"
     ]
    },
    {
     "name": "stdout",
     "output_type": "stream",
     "text": [
      "                   all        510       1404      0.645       0.56      0.613      0.354\n",
      "\n",
      "      Epoch    GPU_mem   box_loss   cls_loss   dfl_loss  Instances       Size\n"
     ]
    },
    {
     "name": "stderr",
     "output_type": "stream",
     "text": [
      "     22/111      2.29G      1.302      1.253      1.417         53        640: 100%|██████████| 170/170 [00:33<00:00,  5.14it/s]\n",
      "                 Class     Images  Instances      Box(P          R      mAP50  mAP50-95): 100%|██████████| 16/16 [00:03<00:00,  4.50it/s]"
     ]
    },
    {
     "name": "stdout",
     "output_type": "stream",
     "text": [
      "                   all        510       1404       0.62      0.605      0.636      0.376\n"
     ]
    },
    {
     "name": "stderr",
     "output_type": "stream",
     "text": [
      "\n"
     ]
    },
    {
     "name": "stdout",
     "output_type": "stream",
     "text": [
      "\n",
      "      Epoch    GPU_mem   box_loss   cls_loss   dfl_loss  Instances       Size\n"
     ]
    },
    {
     "name": "stderr",
     "output_type": "stream",
     "text": [
      "     23/111      2.43G      1.312      1.261      1.417         89        640: 100%|██████████| 170/170 [00:32<00:00,  5.19it/s]\n",
      "                 Class     Images  Instances      Box(P          R      mAP50  mAP50-95): 100%|██████████| 16/16 [00:03<00:00,  4.53it/s]"
     ]
    },
    {
     "name": "stdout",
     "output_type": "stream",
     "text": [
      "                   all        510       1404      0.599      0.596      0.592      0.346\n"
     ]
    },
    {
     "name": "stderr",
     "output_type": "stream",
     "text": [
      "\n"
     ]
    },
    {
     "name": "stdout",
     "output_type": "stream",
     "text": [
      "\n",
      "      Epoch    GPU_mem   box_loss   cls_loss   dfl_loss  Instances       Size\n"
     ]
    },
    {
     "name": "stderr",
     "output_type": "stream",
     "text": [
      "     24/111      2.45G      1.309      1.227      1.412         52        640: 100%|██████████| 170/170 [00:33<00:00,  5.11it/s]\n",
      "                 Class     Images  Instances      Box(P          R      mAP50  mAP50-95): 100%|██████████| 16/16 [00:03<00:00,  4.57it/s]"
     ]
    },
    {
     "name": "stdout",
     "output_type": "stream",
     "text": [
      "                   all        510       1404      0.675      0.576       0.64      0.376\n"
     ]
    },
    {
     "name": "stderr",
     "output_type": "stream",
     "text": [
      "\n"
     ]
    },
    {
     "name": "stdout",
     "output_type": "stream",
     "text": [
      "\n",
      "      Epoch    GPU_mem   box_loss   cls_loss   dfl_loss  Instances       Size\n"
     ]
    },
    {
     "name": "stderr",
     "output_type": "stream",
     "text": [
      "     25/111      2.43G      1.289      1.237      1.405         59        640: 100%|██████████| 170/170 [00:32<00:00,  5.18it/s]\n",
      "                 Class     Images  Instances      Box(P          R      mAP50  mAP50-95): 100%|██████████| 16/16 [00:03<00:00,  4.68it/s]\n"
     ]
    },
    {
     "name": "stdout",
     "output_type": "stream",
     "text": [
      "                   all        510       1404      0.636      0.592      0.646      0.386\n",
      "\n",
      "      Epoch    GPU_mem   box_loss   cls_loss   dfl_loss  Instances       Size\n"
     ]
    },
    {
     "name": "stderr",
     "output_type": "stream",
     "text": [
      "     26/111      2.38G       1.29      1.217      1.396         47        640: 100%|██████████| 170/170 [00:32<00:00,  5.19it/s]\n",
      "                 Class     Images  Instances      Box(P          R      mAP50  mAP50-95): 100%|██████████| 16/16 [00:03<00:00,  4.65it/s]"
     ]
    },
    {
     "name": "stdout",
     "output_type": "stream",
     "text": [
      "                   all        510       1404       0.64      0.559      0.621      0.367\n"
     ]
    },
    {
     "name": "stderr",
     "output_type": "stream",
     "text": [
      "\n"
     ]
    },
    {
     "name": "stdout",
     "output_type": "stream",
     "text": [
      "\n",
      "      Epoch    GPU_mem   box_loss   cls_loss   dfl_loss  Instances       Size\n"
     ]
    },
    {
     "name": "stderr",
     "output_type": "stream",
     "text": [
      "     27/111      2.29G      1.275      1.202      1.387         76        640: 100%|██████████| 170/170 [00:33<00:00,  5.15it/s]\n",
      "                 Class     Images  Instances      Box(P          R      mAP50  mAP50-95): 100%|██████████| 16/16 [00:03<00:00,  4.43it/s]\n"
     ]
    },
    {
     "name": "stdout",
     "output_type": "stream",
     "text": [
      "                   all        510       1404      0.687      0.563      0.643      0.379\n",
      "\n",
      "      Epoch    GPU_mem   box_loss   cls_loss   dfl_loss  Instances       Size\n"
     ]
    },
    {
     "name": "stderr",
     "output_type": "stream",
     "text": [
      "     28/111      2.45G      1.276      1.217      1.391         94        640: 100%|██████████| 170/170 [00:32<00:00,  5.15it/s]\n",
      "                 Class     Images  Instances      Box(P          R      mAP50  mAP50-95): 100%|██████████| 16/16 [00:03<00:00,  4.53it/s]"
     ]
    },
    {
     "name": "stdout",
     "output_type": "stream",
     "text": [
      "                   all        510       1404      0.662      0.563      0.605      0.355\n"
     ]
    },
    {
     "name": "stderr",
     "output_type": "stream",
     "text": [
      "\n"
     ]
    },
    {
     "name": "stdout",
     "output_type": "stream",
     "text": [
      "\n",
      "      Epoch    GPU_mem   box_loss   cls_loss   dfl_loss  Instances       Size\n"
     ]
    },
    {
     "name": "stderr",
     "output_type": "stream",
     "text": [
      "     29/111      2.17G      1.279      1.221      1.395         71        640: 100%|██████████| 170/170 [00:32<00:00,  5.18it/s]\n",
      "                 Class     Images  Instances      Box(P          R      mAP50  mAP50-95): 100%|██████████| 16/16 [00:03<00:00,  4.60it/s]\n"
     ]
    },
    {
     "name": "stdout",
     "output_type": "stream",
     "text": [
      "                   all        510       1404      0.613      0.602      0.619       0.36\n",
      "\n",
      "      Epoch    GPU_mem   box_loss   cls_loss   dfl_loss  Instances       Size\n"
     ]
    },
    {
     "name": "stderr",
     "output_type": "stream",
     "text": [
      "     30/111      2.43G      1.282      1.206      1.389        104        640: 100%|██████████| 170/170 [00:32<00:00,  5.26it/s]\n",
      "                 Class     Images  Instances      Box(P          R      mAP50  mAP50-95): 100%|██████████| 16/16 [00:03<00:00,  4.29it/s]"
     ]
    },
    {
     "name": "stdout",
     "output_type": "stream",
     "text": [
      "                   all        510       1404      0.641        0.6      0.644      0.383\n"
     ]
    },
    {
     "name": "stderr",
     "output_type": "stream",
     "text": [
      "\n"
     ]
    },
    {
     "name": "stdout",
     "output_type": "stream",
     "text": [
      "\n",
      "      Epoch    GPU_mem   box_loss   cls_loss   dfl_loss  Instances       Size\n"
     ]
    },
    {
     "name": "stderr",
     "output_type": "stream",
     "text": [
      "     31/111       2.3G      1.268      1.181      1.387         70        640: 100%|██████████| 170/170 [00:33<00:00,  5.14it/s]\n",
      "                 Class     Images  Instances      Box(P          R      mAP50  mAP50-95): 100%|██████████| 16/16 [00:03<00:00,  4.46it/s]\n"
     ]
    },
    {
     "name": "stdout",
     "output_type": "stream",
     "text": [
      "                   all        510       1404       0.67      0.575      0.622      0.366\n",
      "\n",
      "      Epoch    GPU_mem   box_loss   cls_loss   dfl_loss  Instances       Size\n"
     ]
    },
    {
     "name": "stderr",
     "output_type": "stream",
     "text": [
      "     32/111      2.28G      1.254      1.158      1.372         80        640: 100%|██████████| 170/170 [00:33<00:00,  5.03it/s]\n",
      "                 Class     Images  Instances      Box(P          R      mAP50  mAP50-95): 100%|██████████| 16/16 [00:03<00:00,  4.25it/s]\n"
     ]
    },
    {
     "name": "stdout",
     "output_type": "stream",
     "text": [
      "                   all        510       1404      0.691       0.59      0.657      0.391\n",
      "\n",
      "      Epoch    GPU_mem   box_loss   cls_loss   dfl_loss  Instances       Size\n"
     ]
    },
    {
     "name": "stderr",
     "output_type": "stream",
     "text": [
      "     33/111      2.34G      1.245      1.159      1.377         70        640: 100%|██████████| 170/170 [00:33<00:00,  5.09it/s]\n",
      "                 Class     Images  Instances      Box(P          R      mAP50  mAP50-95): 100%|██████████| 16/16 [00:03<00:00,  4.54it/s]"
     ]
    },
    {
     "name": "stdout",
     "output_type": "stream",
     "text": [
      "                   all        510       1404      0.662      0.595      0.649      0.393\n"
     ]
    },
    {
     "name": "stderr",
     "output_type": "stream",
     "text": [
      "\n"
     ]
    },
    {
     "name": "stdout",
     "output_type": "stream",
     "text": [
      "\n",
      "      Epoch    GPU_mem   box_loss   cls_loss   dfl_loss  Instances       Size\n"
     ]
    },
    {
     "name": "stderr",
     "output_type": "stream",
     "text": [
      "     34/111       2.3G      1.255      1.147      1.379        108        640: 100%|██████████| 170/170 [00:33<00:00,  5.13it/s]\n",
      "                 Class     Images  Instances      Box(P          R      mAP50  mAP50-95): 100%|██████████| 16/16 [00:03<00:00,  4.56it/s]"
     ]
    },
    {
     "name": "stdout",
     "output_type": "stream",
     "text": [
      "                   all        510       1404       0.63      0.615      0.646      0.393\n"
     ]
    },
    {
     "name": "stderr",
     "output_type": "stream",
     "text": [
      "\n"
     ]
    },
    {
     "name": "stdout",
     "output_type": "stream",
     "text": [
      "\n",
      "      Epoch    GPU_mem   box_loss   cls_loss   dfl_loss  Instances       Size\n"
     ]
    },
    {
     "name": "stderr",
     "output_type": "stream",
     "text": [
      "     35/111      2.46G       1.26      1.158      1.372         87        640: 100%|██████████| 170/170 [00:33<00:00,  5.11it/s]\n",
      "                 Class     Images  Instances      Box(P          R      mAP50  mAP50-95): 100%|██████████| 16/16 [00:03<00:00,  4.28it/s]"
     ]
    },
    {
     "name": "stdout",
     "output_type": "stream",
     "text": [
      "                   all        510       1404      0.649      0.612       0.64      0.384\n"
     ]
    },
    {
     "name": "stderr",
     "output_type": "stream",
     "text": [
      "\n"
     ]
    },
    {
     "name": "stdout",
     "output_type": "stream",
     "text": [
      "\n",
      "      Epoch    GPU_mem   box_loss   cls_loss   dfl_loss  Instances       Size\n"
     ]
    },
    {
     "name": "stderr",
     "output_type": "stream",
     "text": [
      "     36/111      2.27G      1.233      1.155      1.369         61        640: 100%|██████████| 170/170 [00:33<00:00,  5.14it/s]\n",
      "                 Class     Images  Instances      Box(P          R      mAP50  mAP50-95): 100%|██████████| 16/16 [00:03<00:00,  4.43it/s]"
     ]
    },
    {
     "name": "stdout",
     "output_type": "stream",
     "text": [
      "                   all        510       1404      0.679      0.591      0.659      0.391\n"
     ]
    },
    {
     "name": "stderr",
     "output_type": "stream",
     "text": [
      "\n"
     ]
    },
    {
     "name": "stdout",
     "output_type": "stream",
     "text": [
      "\n",
      "      Epoch    GPU_mem   box_loss   cls_loss   dfl_loss  Instances       Size\n"
     ]
    },
    {
     "name": "stderr",
     "output_type": "stream",
     "text": [
      "     37/111      2.46G      1.254      1.146      1.372         63        640: 100%|██████████| 170/170 [00:33<00:00,  5.11it/s]\n",
      "                 Class     Images  Instances      Box(P          R      mAP50  mAP50-95): 100%|██████████| 16/16 [00:03<00:00,  4.38it/s]"
     ]
    },
    {
     "name": "stdout",
     "output_type": "stream",
     "text": [
      "                   all        510       1404      0.657      0.585       0.64      0.381\n"
     ]
    },
    {
     "name": "stderr",
     "output_type": "stream",
     "text": [
      "\n"
     ]
    },
    {
     "name": "stdout",
     "output_type": "stream",
     "text": [
      "\n",
      "      Epoch    GPU_mem   box_loss   cls_loss   dfl_loss  Instances       Size\n"
     ]
    },
    {
     "name": "stderr",
     "output_type": "stream",
     "text": [
      "     38/111      2.42G      1.241      1.138      1.369         55        640: 100%|██████████| 170/170 [00:33<00:00,  5.03it/s]\n",
      "                 Class     Images  Instances      Box(P          R      mAP50  mAP50-95): 100%|██████████| 16/16 [00:03<00:00,  4.59it/s]"
     ]
    },
    {
     "name": "stdout",
     "output_type": "stream",
     "text": [
      "                   all        510       1404      0.689      0.581      0.658      0.392\n"
     ]
    },
    {
     "name": "stderr",
     "output_type": "stream",
     "text": [
      "\n"
     ]
    },
    {
     "name": "stdout",
     "output_type": "stream",
     "text": [
      "\n",
      "      Epoch    GPU_mem   box_loss   cls_loss   dfl_loss  Instances       Size\n"
     ]
    },
    {
     "name": "stderr",
     "output_type": "stream",
     "text": [
      "     39/111      2.45G      1.224      1.111      1.361        109        640: 100%|██████████| 170/170 [00:32<00:00,  5.19it/s]\n",
      "                 Class     Images  Instances      Box(P          R      mAP50  mAP50-95): 100%|██████████| 16/16 [00:03<00:00,  4.65it/s]\n"
     ]
    },
    {
     "name": "stdout",
     "output_type": "stream",
     "text": [
      "                   all        510       1404      0.679      0.608      0.664       0.39\n",
      "\n",
      "      Epoch    GPU_mem   box_loss   cls_loss   dfl_loss  Instances       Size\n"
     ]
    },
    {
     "name": "stderr",
     "output_type": "stream",
     "text": [
      "     40/111      2.47G      1.235      1.143      1.369         56        640: 100%|██████████| 170/170 [00:33<00:00,  5.09it/s]\n",
      "                 Class     Images  Instances      Box(P          R      mAP50  mAP50-95): 100%|██████████| 16/16 [00:03<00:00,  4.51it/s]"
     ]
    },
    {
     "name": "stdout",
     "output_type": "stream",
     "text": [
      "                   all        510       1404      0.675      0.602      0.665      0.398\n"
     ]
    },
    {
     "name": "stderr",
     "output_type": "stream",
     "text": [
      "\n"
     ]
    },
    {
     "name": "stdout",
     "output_type": "stream",
     "text": [
      "\n",
      "      Epoch    GPU_mem   box_loss   cls_loss   dfl_loss  Instances       Size\n"
     ]
    },
    {
     "name": "stderr",
     "output_type": "stream",
     "text": [
      "     41/111      2.29G      1.224      1.122      1.362         51        640: 100%|██████████| 170/170 [00:32<00:00,  5.15it/s]\n",
      "                 Class     Images  Instances      Box(P          R      mAP50  mAP50-95): 100%|██████████| 16/16 [00:03<00:00,  4.52it/s]"
     ]
    },
    {
     "name": "stdout",
     "output_type": "stream",
     "text": [
      "                   all        510       1404      0.708      0.583      0.663      0.402\n"
     ]
    },
    {
     "name": "stderr",
     "output_type": "stream",
     "text": [
      "\n"
     ]
    },
    {
     "name": "stdout",
     "output_type": "stream",
     "text": [
      "\n",
      "      Epoch    GPU_mem   box_loss   cls_loss   dfl_loss  Instances       Size\n"
     ]
    },
    {
     "name": "stderr",
     "output_type": "stream",
     "text": [
      "     42/111      2.28G      1.207      1.107      1.353         69        640: 100%|██████████| 170/170 [00:32<00:00,  5.17it/s]\n",
      "                 Class     Images  Instances      Box(P          R      mAP50  mAP50-95): 100%|██████████| 16/16 [00:03<00:00,  4.58it/s]\n"
     ]
    },
    {
     "name": "stdout",
     "output_type": "stream",
     "text": [
      "                   all        510       1404      0.683      0.599      0.678      0.409\n",
      "\n",
      "      Epoch    GPU_mem   box_loss   cls_loss   dfl_loss  Instances       Size\n"
     ]
    },
    {
     "name": "stderr",
     "output_type": "stream",
     "text": [
      "     43/111      2.28G      1.229      1.098      1.359         62        640: 100%|██████████| 170/170 [00:33<00:00,  5.13it/s]\n",
      "                 Class     Images  Instances      Box(P          R      mAP50  mAP50-95): 100%|██████████| 16/16 [00:03<00:00,  4.35it/s]"
     ]
    },
    {
     "name": "stdout",
     "output_type": "stream",
     "text": [
      "                   all        510       1404      0.703      0.603      0.667      0.398\n"
     ]
    },
    {
     "name": "stderr",
     "output_type": "stream",
     "text": [
      "\n"
     ]
    },
    {
     "name": "stdout",
     "output_type": "stream",
     "text": [
      "\n",
      "      Epoch    GPU_mem   box_loss   cls_loss   dfl_loss  Instances       Size\n"
     ]
    },
    {
     "name": "stderr",
     "output_type": "stream",
     "text": [
      "     44/111      2.29G      1.235       1.12      1.366         72        640: 100%|██████████| 170/170 [00:33<00:00,  5.09it/s]\n",
      "                 Class     Images  Instances      Box(P          R      mAP50  mAP50-95): 100%|██████████| 16/16 [00:03<00:00,  4.63it/s]"
     ]
    },
    {
     "name": "stdout",
     "output_type": "stream",
     "text": [
      "                   all        510       1404      0.647      0.618      0.663      0.401\n"
     ]
    },
    {
     "name": "stderr",
     "output_type": "stream",
     "text": [
      "\n"
     ]
    },
    {
     "name": "stdout",
     "output_type": "stream",
     "text": [
      "\n",
      "      Epoch    GPU_mem   box_loss   cls_loss   dfl_loss  Instances       Size\n"
     ]
    },
    {
     "name": "stderr",
     "output_type": "stream",
     "text": [
      "     45/111      2.74G      1.229      1.109      1.357         86        640: 100%|██████████| 170/170 [00:33<00:00,  5.07it/s]\n",
      "                 Class     Images  Instances      Box(P          R      mAP50  mAP50-95): 100%|██████████| 16/16 [00:03<00:00,  4.54it/s]"
     ]
    },
    {
     "name": "stdout",
     "output_type": "stream",
     "text": [
      "                   all        510       1404      0.674      0.608      0.658      0.394\n"
     ]
    },
    {
     "name": "stderr",
     "output_type": "stream",
     "text": [
      "\n"
     ]
    },
    {
     "name": "stdout",
     "output_type": "stream",
     "text": [
      "\n",
      "      Epoch    GPU_mem   box_loss   cls_loss   dfl_loss  Instances       Size\n"
     ]
    },
    {
     "name": "stderr",
     "output_type": "stream",
     "text": [
      "     46/111      2.18G      1.221      1.096       1.35         74        640: 100%|██████████| 170/170 [00:33<00:00,  5.07it/s]\n",
      "                 Class     Images  Instances      Box(P          R      mAP50  mAP50-95): 100%|██████████| 16/16 [00:03<00:00,  4.62it/s]\n"
     ]
    },
    {
     "name": "stdout",
     "output_type": "stream",
     "text": [
      "                   all        510       1404      0.677      0.611       0.65      0.393\n",
      "\n",
      "      Epoch    GPU_mem   box_loss   cls_loss   dfl_loss  Instances       Size\n"
     ]
    },
    {
     "name": "stderr",
     "output_type": "stream",
     "text": [
      "     47/111      2.28G      1.205      1.078      1.338         68        640: 100%|██████████| 170/170 [00:32<00:00,  5.22it/s]\n",
      "                 Class     Images  Instances      Box(P          R      mAP50  mAP50-95): 100%|██████████| 16/16 [00:03<00:00,  4.59it/s]\n"
     ]
    },
    {
     "name": "stdout",
     "output_type": "stream",
     "text": [
      "                   all        510       1404      0.661      0.633       0.68       0.41\n",
      "\n",
      "      Epoch    GPU_mem   box_loss   cls_loss   dfl_loss  Instances       Size\n"
     ]
    },
    {
     "name": "stderr",
     "output_type": "stream",
     "text": [
      "     48/111      2.63G      1.216      1.066       1.35         55        640: 100%|██████████| 170/170 [00:33<00:00,  5.09it/s]\n",
      "                 Class     Images  Instances      Box(P          R      mAP50  mAP50-95): 100%|██████████| 16/16 [00:03<00:00,  4.66it/s]"
     ]
    },
    {
     "name": "stdout",
     "output_type": "stream",
     "text": [
      "                   all        510       1404      0.667      0.614      0.665      0.402\n"
     ]
    },
    {
     "name": "stderr",
     "output_type": "stream",
     "text": [
      "\n"
     ]
    },
    {
     "name": "stdout",
     "output_type": "stream",
     "text": [
      "\n",
      "      Epoch    GPU_mem   box_loss   cls_loss   dfl_loss  Instances       Size\n"
     ]
    },
    {
     "name": "stderr",
     "output_type": "stream",
     "text": [
      "     49/111      2.41G      1.218      1.066      1.342         66        640: 100%|██████████| 170/170 [00:33<00:00,  5.02it/s]\n",
      "                 Class     Images  Instances      Box(P          R      mAP50  mAP50-95): 100%|██████████| 16/16 [00:03<00:00,  4.37it/s]"
     ]
    },
    {
     "name": "stdout",
     "output_type": "stream",
     "text": [
      "                   all        510       1404      0.675      0.624      0.674       0.41\n"
     ]
    },
    {
     "name": "stderr",
     "output_type": "stream",
     "text": [
      "\n"
     ]
    },
    {
     "name": "stdout",
     "output_type": "stream",
     "text": [
      "\n",
      "      Epoch    GPU_mem   box_loss   cls_loss   dfl_loss  Instances       Size\n"
     ]
    },
    {
     "name": "stderr",
     "output_type": "stream",
     "text": [
      "     50/111      2.29G      1.184      1.036      1.328         69        640: 100%|██████████| 170/170 [00:33<00:00,  5.13it/s]\n",
      "                 Class     Images  Instances      Box(P          R      mAP50  mAP50-95): 100%|██████████| 16/16 [00:03<00:00,  4.60it/s]\n"
     ]
    },
    {
     "name": "stdout",
     "output_type": "stream",
     "text": [
      "                   all        510       1404      0.678      0.633      0.677      0.406\n",
      "\n",
      "      Epoch    GPU_mem   box_loss   cls_loss   dfl_loss  Instances       Size\n"
     ]
    },
    {
     "name": "stderr",
     "output_type": "stream",
     "text": [
      "     51/111      2.48G      1.212      1.065      1.339         57        640: 100%|██████████| 170/170 [00:32<00:00,  5.22it/s]\n",
      "                 Class     Images  Instances      Box(P          R      mAP50  mAP50-95): 100%|██████████| 16/16 [00:03<00:00,  4.29it/s]"
     ]
    },
    {
     "name": "stdout",
     "output_type": "stream",
     "text": [
      "                   all        510       1404      0.672      0.629      0.655      0.398\n"
     ]
    },
    {
     "name": "stderr",
     "output_type": "stream",
     "text": [
      "\n"
     ]
    },
    {
     "name": "stdout",
     "output_type": "stream",
     "text": [
      "\n",
      "      Epoch    GPU_mem   box_loss   cls_loss   dfl_loss  Instances       Size\n"
     ]
    },
    {
     "name": "stderr",
     "output_type": "stream",
     "text": [
      "     52/111      2.34G      1.183      1.043      1.335         53        640: 100%|██████████| 170/170 [00:33<00:00,  5.11it/s]\n",
      "                 Class     Images  Instances      Box(P          R      mAP50  mAP50-95): 100%|██████████| 16/16 [00:03<00:00,  4.70it/s]\n"
     ]
    },
    {
     "name": "stdout",
     "output_type": "stream",
     "text": [
      "                   all        510       1404      0.685       0.63      0.681       0.41\n",
      "\n",
      "      Epoch    GPU_mem   box_loss   cls_loss   dfl_loss  Instances       Size\n"
     ]
    },
    {
     "name": "stderr",
     "output_type": "stream",
     "text": [
      "     53/111      2.29G      1.191      1.045      1.333         60        640: 100%|██████████| 170/170 [00:33<00:00,  5.07it/s]\n",
      "                 Class     Images  Instances      Box(P          R      mAP50  mAP50-95): 100%|██████████| 16/16 [00:03<00:00,  4.67it/s]\n"
     ]
    },
    {
     "name": "stdout",
     "output_type": "stream",
     "text": [
      "                   all        510       1404       0.67       0.64      0.683       0.41\n",
      "\n",
      "      Epoch    GPU_mem   box_loss   cls_loss   dfl_loss  Instances       Size\n"
     ]
    },
    {
     "name": "stderr",
     "output_type": "stream",
     "text": [
      "     54/111      2.42G      1.184      1.036      1.333         79        640: 100%|██████████| 170/170 [00:32<00:00,  5.21it/s]\n",
      "                 Class     Images  Instances      Box(P          R      mAP50  mAP50-95): 100%|██████████| 16/16 [00:03<00:00,  4.65it/s]"
     ]
    },
    {
     "name": "stdout",
     "output_type": "stream",
     "text": [
      "                   all        510       1404      0.655      0.651      0.673      0.405\n"
     ]
    },
    {
     "name": "stderr",
     "output_type": "stream",
     "text": [
      "\n"
     ]
    },
    {
     "name": "stdout",
     "output_type": "stream",
     "text": [
      "\n",
      "      Epoch    GPU_mem   box_loss   cls_loss   dfl_loss  Instances       Size\n"
     ]
    },
    {
     "name": "stderr",
     "output_type": "stream",
     "text": [
      "     55/111      2.29G      1.187       1.03       1.32         72        640: 100%|██████████| 170/170 [00:32<00:00,  5.20it/s]\n",
      "                 Class     Images  Instances      Box(P          R      mAP50  mAP50-95): 100%|██████████| 16/16 [00:03<00:00,  4.33it/s]"
     ]
    },
    {
     "name": "stdout",
     "output_type": "stream",
     "text": [
      "                   all        510       1404      0.654      0.634      0.656      0.399\n"
     ]
    },
    {
     "name": "stderr",
     "output_type": "stream",
     "text": [
      "\n"
     ]
    },
    {
     "name": "stdout",
     "output_type": "stream",
     "text": [
      "\n",
      "      Epoch    GPU_mem   box_loss   cls_loss   dfl_loss  Instances       Size\n"
     ]
    },
    {
     "name": "stderr",
     "output_type": "stream",
     "text": [
      "     56/111      2.43G      1.196      1.037      1.324         50        640: 100%|██████████| 170/170 [00:33<00:00,  5.13it/s]\n",
      "                 Class     Images  Instances      Box(P          R      mAP50  mAP50-95): 100%|██████████| 16/16 [00:03<00:00,  4.47it/s]"
     ]
    },
    {
     "name": "stdout",
     "output_type": "stream",
     "text": [
      "                   all        510       1404      0.699      0.616      0.664      0.398\n"
     ]
    },
    {
     "name": "stderr",
     "output_type": "stream",
     "text": [
      "\n"
     ]
    },
    {
     "name": "stdout",
     "output_type": "stream",
     "text": [
      "\n",
      "      Epoch    GPU_mem   box_loss   cls_loss   dfl_loss  Instances       Size\n"
     ]
    },
    {
     "name": "stderr",
     "output_type": "stream",
     "text": [
      "     57/111      2.44G      1.182      1.033      1.321         93        640: 100%|██████████| 170/170 [00:32<00:00,  5.19it/s]\n",
      "                 Class     Images  Instances      Box(P          R      mAP50  mAP50-95): 100%|██████████| 16/16 [00:03<00:00,  4.62it/s]"
     ]
    },
    {
     "name": "stdout",
     "output_type": "stream",
     "text": [
      "                   all        510       1404      0.673      0.614      0.668      0.402\n"
     ]
    },
    {
     "name": "stderr",
     "output_type": "stream",
     "text": [
      "\n"
     ]
    },
    {
     "name": "stdout",
     "output_type": "stream",
     "text": [
      "\n",
      "      Epoch    GPU_mem   box_loss   cls_loss   dfl_loss  Instances       Size\n"
     ]
    },
    {
     "name": "stderr",
     "output_type": "stream",
     "text": [
      "     58/111      2.45G      1.188      1.014       1.33         89        640: 100%|██████████| 170/170 [00:32<00:00,  5.22it/s]\n",
      "                 Class     Images  Instances      Box(P          R      mAP50  mAP50-95): 100%|██████████| 16/16 [00:03<00:00,  4.63it/s]"
     ]
    },
    {
     "name": "stdout",
     "output_type": "stream",
     "text": [
      "                   all        510       1404      0.672       0.62      0.668      0.405\n"
     ]
    },
    {
     "name": "stderr",
     "output_type": "stream",
     "text": [
      "\n"
     ]
    },
    {
     "name": "stdout",
     "output_type": "stream",
     "text": [
      "\n",
      "      Epoch    GPU_mem   box_loss   cls_loss   dfl_loss  Instances       Size\n"
     ]
    },
    {
     "name": "stderr",
     "output_type": "stream",
     "text": [
      "     59/111      2.28G      1.171      1.016      1.314         68        640: 100%|██████████| 170/170 [00:32<00:00,  5.18it/s]\n",
      "                 Class     Images  Instances      Box(P          R      mAP50  mAP50-95): 100%|██████████| 16/16 [00:03<00:00,  4.63it/s]\n"
     ]
    },
    {
     "name": "stdout",
     "output_type": "stream",
     "text": [
      "                   all        510       1404      0.683      0.608      0.662      0.399\n",
      "\n",
      "      Epoch    GPU_mem   box_loss   cls_loss   dfl_loss  Instances       Size\n"
     ]
    },
    {
     "name": "stderr",
     "output_type": "stream",
     "text": [
      "     60/111      2.45G      1.161      1.009      1.311         69        640: 100%|██████████| 170/170 [00:33<00:00,  5.09it/s]\n",
      "                 Class     Images  Instances      Box(P          R      mAP50  mAP50-95): 100%|██████████| 16/16 [00:03<00:00,  4.63it/s]\n"
     ]
    },
    {
     "name": "stdout",
     "output_type": "stream",
     "text": [
      "                   all        510       1404      0.662      0.634      0.653      0.399\n",
      "\n",
      "      Epoch    GPU_mem   box_loss   cls_loss   dfl_loss  Instances       Size\n"
     ]
    },
    {
     "name": "stderr",
     "output_type": "stream",
     "text": [
      "     61/111      2.26G      1.168     0.9962      1.313         81        640: 100%|██████████| 170/170 [00:33<00:00,  5.12it/s]\n",
      "                 Class     Images  Instances      Box(P          R      mAP50  mAP50-95): 100%|██████████| 16/16 [00:03<00:00,  4.49it/s]"
     ]
    },
    {
     "name": "stdout",
     "output_type": "stream",
     "text": [
      "                   all        510       1404      0.684      0.645      0.687      0.416\n"
     ]
    },
    {
     "name": "stderr",
     "output_type": "stream",
     "text": [
      "\n"
     ]
    },
    {
     "name": "stdout",
     "output_type": "stream",
     "text": [
      "\n",
      "      Epoch    GPU_mem   box_loss   cls_loss   dfl_loss  Instances       Size\n"
     ]
    },
    {
     "name": "stderr",
     "output_type": "stream",
     "text": [
      "     62/111      2.32G      1.168     0.9915      1.318         54        640: 100%|██████████| 170/170 [00:32<00:00,  5.16it/s]\n",
      "                 Class     Images  Instances      Box(P          R      mAP50  mAP50-95): 100%|██████████| 16/16 [00:03<00:00,  4.20it/s]"
     ]
    },
    {
     "name": "stdout",
     "output_type": "stream",
     "text": [
      "                   all        510       1404        0.7      0.625       0.69      0.421\n"
     ]
    },
    {
     "name": "stderr",
     "output_type": "stream",
     "text": [
      "\n"
     ]
    },
    {
     "name": "stdout",
     "output_type": "stream",
     "text": [
      "\n",
      "      Epoch    GPU_mem   box_loss   cls_loss   dfl_loss  Instances       Size\n"
     ]
    },
    {
     "name": "stderr",
     "output_type": "stream",
     "text": [
      "     63/111      2.43G      1.165      1.009      1.301         52        640: 100%|██████████| 170/170 [00:32<00:00,  5.19it/s]\n",
      "                 Class     Images  Instances      Box(P          R      mAP50  mAP50-95): 100%|██████████| 16/16 [00:03<00:00,  4.58it/s]\n"
     ]
    },
    {
     "name": "stdout",
     "output_type": "stream",
     "text": [
      "                   all        510       1404      0.692      0.618      0.674       0.41\n",
      "\n",
      "      Epoch    GPU_mem   box_loss   cls_loss   dfl_loss  Instances       Size\n"
     ]
    },
    {
     "name": "stderr",
     "output_type": "stream",
     "text": [
      "     64/111      2.45G      1.156     0.9947      1.293         82        640: 100%|██████████| 170/170 [00:33<00:00,  5.14it/s]\n",
      "                 Class     Images  Instances      Box(P          R      mAP50  mAP50-95): 100%|██████████| 16/16 [00:03<00:00,  4.69it/s]"
     ]
    },
    {
     "name": "stdout",
     "output_type": "stream",
     "text": [
      "                   all        510       1404      0.711      0.612      0.683      0.415\n"
     ]
    },
    {
     "name": "stderr",
     "output_type": "stream",
     "text": [
      "\n"
     ]
    },
    {
     "name": "stdout",
     "output_type": "stream",
     "text": [
      "\n",
      "      Epoch    GPU_mem   box_loss   cls_loss   dfl_loss  Instances       Size\n"
     ]
    },
    {
     "name": "stderr",
     "output_type": "stream",
     "text": [
      "     65/111      2.26G      1.142     0.9692      1.296        105        640: 100%|██████████| 170/170 [00:33<00:00,  5.13it/s]\n",
      "                 Class     Images  Instances      Box(P          R      mAP50  mAP50-95): 100%|██████████| 16/16 [00:03<00:00,  4.62it/s]"
     ]
    },
    {
     "name": "stdout",
     "output_type": "stream",
     "text": [
      "                   all        510       1404      0.678      0.649      0.681       0.42\n"
     ]
    },
    {
     "name": "stderr",
     "output_type": "stream",
     "text": [
      "\n"
     ]
    },
    {
     "name": "stdout",
     "output_type": "stream",
     "text": [
      "\n",
      "      Epoch    GPU_mem   box_loss   cls_loss   dfl_loss  Instances       Size\n"
     ]
    },
    {
     "name": "stderr",
     "output_type": "stream",
     "text": [
      "     66/111      2.51G      1.152      0.973      1.283         67        640: 100%|██████████| 170/170 [00:32<00:00,  5.16it/s]\n",
      "                 Class     Images  Instances      Box(P          R      mAP50  mAP50-95): 100%|██████████| 16/16 [00:03<00:00,  4.55it/s]"
     ]
    },
    {
     "name": "stdout",
     "output_type": "stream",
     "text": [
      "                   all        510       1404      0.689      0.623      0.683      0.416\n"
     ]
    },
    {
     "name": "stderr",
     "output_type": "stream",
     "text": [
      "\n"
     ]
    },
    {
     "name": "stdout",
     "output_type": "stream",
     "text": [
      "\n",
      "      Epoch    GPU_mem   box_loss   cls_loss   dfl_loss  Instances       Size\n"
     ]
    },
    {
     "name": "stderr",
     "output_type": "stream",
     "text": [
      "     67/111      2.43G      1.153     0.9649      1.294         97        640: 100%|██████████| 170/170 [00:32<00:00,  5.19it/s]\n",
      "                 Class     Images  Instances      Box(P          R      mAP50  mAP50-95): 100%|██████████| 16/16 [00:03<00:00,  4.43it/s]"
     ]
    },
    {
     "name": "stdout",
     "output_type": "stream",
     "text": [
      "                   all        510       1404      0.727      0.604      0.689      0.414\n"
     ]
    },
    {
     "name": "stderr",
     "output_type": "stream",
     "text": [
      "\n"
     ]
    },
    {
     "name": "stdout",
     "output_type": "stream",
     "text": [
      "\n",
      "      Epoch    GPU_mem   box_loss   cls_loss   dfl_loss  Instances       Size\n"
     ]
    },
    {
     "name": "stderr",
     "output_type": "stream",
     "text": [
      "     68/111      2.31G      1.137     0.9603      1.288         95        640: 100%|██████████| 170/170 [00:32<00:00,  5.19it/s]\n",
      "                 Class     Images  Instances      Box(P          R      mAP50  mAP50-95): 100%|██████████| 16/16 [00:03<00:00,  4.64it/s]"
     ]
    },
    {
     "name": "stdout",
     "output_type": "stream",
     "text": [
      "                   all        510       1404      0.674      0.624      0.668      0.406\n"
     ]
    },
    {
     "name": "stderr",
     "output_type": "stream",
     "text": [
      "\n"
     ]
    },
    {
     "name": "stdout",
     "output_type": "stream",
     "text": [
      "\n",
      "      Epoch    GPU_mem   box_loss   cls_loss   dfl_loss  Instances       Size\n"
     ]
    },
    {
     "name": "stderr",
     "output_type": "stream",
     "text": [
      "     69/111       2.3G      1.137     0.9534      1.287         68        640: 100%|██████████| 170/170 [00:32<00:00,  5.17it/s]\n",
      "                 Class     Images  Instances      Box(P          R      mAP50  mAP50-95): 100%|██████████| 16/16 [00:03<00:00,  4.66it/s]"
     ]
    },
    {
     "name": "stdout",
     "output_type": "stream",
     "text": [
      "                   all        510       1404      0.677      0.643      0.685      0.417\n"
     ]
    },
    {
     "name": "stderr",
     "output_type": "stream",
     "text": [
      "\n"
     ]
    },
    {
     "name": "stdout",
     "output_type": "stream",
     "text": [
      "\n",
      "      Epoch    GPU_mem   box_loss   cls_loss   dfl_loss  Instances       Size\n"
     ]
    },
    {
     "name": "stderr",
     "output_type": "stream",
     "text": [
      "     70/111      2.29G       1.14     0.9571      1.293         73        640: 100%|██████████| 170/170 [00:33<00:00,  5.15it/s]\n",
      "                 Class     Images  Instances      Box(P          R      mAP50  mAP50-95): 100%|██████████| 16/16 [00:03<00:00,  4.29it/s]\n"
     ]
    },
    {
     "name": "stdout",
     "output_type": "stream",
     "text": [
      "                   all        510       1404      0.721      0.609      0.679      0.412\n",
      "\n",
      "      Epoch    GPU_mem   box_loss   cls_loss   dfl_loss  Instances       Size\n"
     ]
    },
    {
     "name": "stderr",
     "output_type": "stream",
     "text": [
      "     71/111      2.29G      1.134     0.9421      1.288         58        640: 100%|██████████| 170/170 [00:33<00:00,  5.11it/s]\n",
      "                 Class     Images  Instances      Box(P          R      mAP50  mAP50-95): 100%|██████████| 16/16 [00:03<00:00,  4.75it/s]\n"
     ]
    },
    {
     "name": "stdout",
     "output_type": "stream",
     "text": [
      "                   all        510       1404       0.71      0.619      0.678      0.414\n",
      "\n",
      "      Epoch    GPU_mem   box_loss   cls_loss   dfl_loss  Instances       Size\n"
     ]
    },
    {
     "name": "stderr",
     "output_type": "stream",
     "text": [
      "     72/111      2.28G      1.134     0.9329      1.291         53        640: 100%|██████████| 170/170 [00:33<00:00,  5.09it/s]\n",
      "                 Class     Images  Instances      Box(P          R      mAP50  mAP50-95): 100%|██████████| 16/16 [00:03<00:00,  4.72it/s]\n"
     ]
    },
    {
     "name": "stdout",
     "output_type": "stream",
     "text": [
      "                   all        510       1404      0.671      0.634      0.674      0.406\n",
      "\n",
      "      Epoch    GPU_mem   box_loss   cls_loss   dfl_loss  Instances       Size\n"
     ]
    },
    {
     "name": "stderr",
     "output_type": "stream",
     "text": [
      "     73/111      2.29G      1.123     0.9323       1.28         85        640: 100%|██████████| 170/170 [00:33<00:00,  5.10it/s]\n",
      "                 Class     Images  Instances      Box(P          R      mAP50  mAP50-95): 100%|██████████| 16/16 [00:03<00:00,  4.63it/s]"
     ]
    },
    {
     "name": "stdout",
     "output_type": "stream",
     "text": [
      "                   all        510       1404      0.682      0.627      0.669      0.407\n",
      "\u001b[34m\u001b[1mEarlyStopping: \u001b[0mTraining stopped early as no improvement observed in last 11 epochs. Best results observed at epoch 62, best model saved as best.pt.\n",
      "To update EarlyStopping(patience=11) pass a new patience value, i.e. `patience=300` or use `patience=0` to disable EarlyStopping.\n"
     ]
    },
    {
     "name": "stderr",
     "output_type": "stream",
     "text": [
      "\n"
     ]
    },
    {
     "name": "stdout",
     "output_type": "stream",
     "text": [
      "\n",
      "73 epochs completed in 0.765 hours.\n",
      "Optimizer stripped from runs/detect/train/weights/last.pt, 6.3MB\n",
      "Optimizer stripped from runs/detect/train/weights/best.pt, 6.3MB\n",
      "\n",
      "Validating runs/detect/train/weights/best.pt...\n",
      "Ultralytics YOLOv8.2.4 🚀 Python-3.10.13 torch-2.1.2 CUDA:0 (Tesla T4, 15102MiB)\n",
      "Model summary (fused): 168 layers, 3005843 parameters, 0 gradients, 8.1 GFLOPs\n"
     ]
    },
    {
     "name": "stderr",
     "output_type": "stream",
     "text": [
      "                 Class     Images  Instances      Box(P          R      mAP50  mAP50-95): 100%|██████████| 16/16 [00:06<00:00,  2.54it/s]\n"
     ]
    },
    {
     "name": "stdout",
     "output_type": "stream",
     "text": [
      "                   all        510       1404      0.701      0.625       0.69      0.422\n",
      "Speed: 0.2ms preprocess, 2.2ms inference, 0.0ms loss, 3.2ms postprocess per image\n",
      "Results saved to \u001b[1mruns/detect/train\u001b[0m\n"
     ]
    },
    {
     "data": {
      "text/plain": [
       "ultralytics.utils.metrics.DetMetrics object with attributes:\n",
       "\n",
       "ap_class_index: array([0])\n",
       "box: ultralytics.utils.metrics.Metric object\n",
       "confusion_matrix: <ultralytics.utils.metrics.ConfusionMatrix object at 0x79b571d3d720>\n",
       "curves: ['Precision-Recall(B)', 'F1-Confidence(B)', 'Precision-Confidence(B)', 'Recall-Confidence(B)']\n",
       "curves_results: [[array([          0,    0.001001,    0.002002,    0.003003,    0.004004,    0.005005,    0.006006,    0.007007,    0.008008,    0.009009,     0.01001,    0.011011,    0.012012,    0.013013,    0.014014,    0.015015,    0.016016,    0.017017,    0.018018,    0.019019,     0.02002,    0.021021,    0.022022,    0.023023,\n",
       "          0.024024,    0.025025,    0.026026,    0.027027,    0.028028,    0.029029,     0.03003,    0.031031,    0.032032,    0.033033,    0.034034,    0.035035,    0.036036,    0.037037,    0.038038,    0.039039,     0.04004,    0.041041,    0.042042,    0.043043,    0.044044,    0.045045,    0.046046,    0.047047,\n",
       "          0.048048,    0.049049,     0.05005,    0.051051,    0.052052,    0.053053,    0.054054,    0.055055,    0.056056,    0.057057,    0.058058,    0.059059,     0.06006,    0.061061,    0.062062,    0.063063,    0.064064,    0.065065,    0.066066,    0.067067,    0.068068,    0.069069,     0.07007,    0.071071,\n",
       "          0.072072,    0.073073,    0.074074,    0.075075,    0.076076,    0.077077,    0.078078,    0.079079,     0.08008,    0.081081,    0.082082,    0.083083,    0.084084,    0.085085,    0.086086,    0.087087,    0.088088,    0.089089,     0.09009,    0.091091,    0.092092,    0.093093,    0.094094,    0.095095,\n",
       "          0.096096,    0.097097,    0.098098,    0.099099,      0.1001,      0.1011,      0.1021,      0.1031,      0.1041,     0.10511,     0.10611,     0.10711,     0.10811,     0.10911,     0.11011,     0.11111,     0.11211,     0.11311,     0.11411,     0.11512,     0.11612,     0.11712,     0.11812,     0.11912,\n",
       "           0.12012,     0.12112,     0.12212,     0.12312,     0.12412,     0.12513,     0.12613,     0.12713,     0.12813,     0.12913,     0.13013,     0.13113,     0.13213,     0.13313,     0.13413,     0.13514,     0.13614,     0.13714,     0.13814,     0.13914,     0.14014,     0.14114,     0.14214,     0.14314,\n",
       "           0.14414,     0.14515,     0.14615,     0.14715,     0.14815,     0.14915,     0.15015,     0.15115,     0.15215,     0.15315,     0.15415,     0.15516,     0.15616,     0.15716,     0.15816,     0.15916,     0.16016,     0.16116,     0.16216,     0.16316,     0.16416,     0.16517,     0.16617,     0.16717,\n",
       "           0.16817,     0.16917,     0.17017,     0.17117,     0.17217,     0.17317,     0.17417,     0.17518,     0.17618,     0.17718,     0.17818,     0.17918,     0.18018,     0.18118,     0.18218,     0.18318,     0.18418,     0.18519,     0.18619,     0.18719,     0.18819,     0.18919,     0.19019,     0.19119,\n",
       "           0.19219,     0.19319,     0.19419,      0.1952,      0.1962,      0.1972,      0.1982,      0.1992,      0.2002,      0.2012,      0.2022,      0.2032,      0.2042,     0.20521,     0.20621,     0.20721,     0.20821,     0.20921,     0.21021,     0.21121,     0.21221,     0.21321,     0.21421,     0.21522,\n",
       "           0.21622,     0.21722,     0.21822,     0.21922,     0.22022,     0.22122,     0.22222,     0.22322,     0.22422,     0.22523,     0.22623,     0.22723,     0.22823,     0.22923,     0.23023,     0.23123,     0.23223,     0.23323,     0.23423,     0.23524,     0.23624,     0.23724,     0.23824,     0.23924,\n",
       "           0.24024,     0.24124,     0.24224,     0.24324,     0.24424,     0.24525,     0.24625,     0.24725,     0.24825,     0.24925,     0.25025,     0.25125,     0.25225,     0.25325,     0.25425,     0.25526,     0.25626,     0.25726,     0.25826,     0.25926,     0.26026,     0.26126,     0.26226,     0.26326,\n",
       "           0.26426,     0.26527,     0.26627,     0.26727,     0.26827,     0.26927,     0.27027,     0.27127,     0.27227,     0.27327,     0.27427,     0.27528,     0.27628,     0.27728,     0.27828,     0.27928,     0.28028,     0.28128,     0.28228,     0.28328,     0.28428,     0.28529,     0.28629,     0.28729,\n",
       "           0.28829,     0.28929,     0.29029,     0.29129,     0.29229,     0.29329,     0.29429,      0.2953,      0.2963,      0.2973,      0.2983,      0.2993,      0.3003,      0.3013,      0.3023,      0.3033,      0.3043,     0.30531,     0.30631,     0.30731,     0.30831,     0.30931,     0.31031,     0.31131,\n",
       "           0.31231,     0.31331,     0.31431,     0.31532,     0.31632,     0.31732,     0.31832,     0.31932,     0.32032,     0.32132,     0.32232,     0.32332,     0.32432,     0.32533,     0.32633,     0.32733,     0.32833,     0.32933,     0.33033,     0.33133,     0.33233,     0.33333,     0.33433,     0.33534,\n",
       "           0.33634,     0.33734,     0.33834,     0.33934,     0.34034,     0.34134,     0.34234,     0.34334,     0.34434,     0.34535,     0.34635,     0.34735,     0.34835,     0.34935,     0.35035,     0.35135,     0.35235,     0.35335,     0.35435,     0.35536,     0.35636,     0.35736,     0.35836,     0.35936,\n",
       "           0.36036,     0.36136,     0.36236,     0.36336,     0.36436,     0.36537,     0.36637,     0.36737,     0.36837,     0.36937,     0.37037,     0.37137,     0.37237,     0.37337,     0.37437,     0.37538,     0.37638,     0.37738,     0.37838,     0.37938,     0.38038,     0.38138,     0.38238,     0.38338,\n",
       "           0.38438,     0.38539,     0.38639,     0.38739,     0.38839,     0.38939,     0.39039,     0.39139,     0.39239,     0.39339,     0.39439,      0.3954,      0.3964,      0.3974,      0.3984,      0.3994,      0.4004,      0.4014,      0.4024,      0.4034,      0.4044,     0.40541,     0.40641,     0.40741,\n",
       "           0.40841,     0.40941,     0.41041,     0.41141,     0.41241,     0.41341,     0.41441,     0.41542,     0.41642,     0.41742,     0.41842,     0.41942,     0.42042,     0.42142,     0.42242,     0.42342,     0.42442,     0.42543,     0.42643,     0.42743,     0.42843,     0.42943,     0.43043,     0.43143,\n",
       "           0.43243,     0.43343,     0.43443,     0.43544,     0.43644,     0.43744,     0.43844,     0.43944,     0.44044,     0.44144,     0.44244,     0.44344,     0.44444,     0.44545,     0.44645,     0.44745,     0.44845,     0.44945,     0.45045,     0.45145,     0.45245,     0.45345,     0.45445,     0.45546,\n",
       "           0.45646,     0.45746,     0.45846,     0.45946,     0.46046,     0.46146,     0.46246,     0.46346,     0.46446,     0.46547,     0.46647,     0.46747,     0.46847,     0.46947,     0.47047,     0.47147,     0.47247,     0.47347,     0.47447,     0.47548,     0.47648,     0.47748,     0.47848,     0.47948,\n",
       "           0.48048,     0.48148,     0.48248,     0.48348,     0.48448,     0.48549,     0.48649,     0.48749,     0.48849,     0.48949,     0.49049,     0.49149,     0.49249,     0.49349,     0.49449,      0.4955,      0.4965,      0.4975,      0.4985,      0.4995,      0.5005,      0.5015,      0.5025,      0.5035,\n",
       "            0.5045,     0.50551,     0.50651,     0.50751,     0.50851,     0.50951,     0.51051,     0.51151,     0.51251,     0.51351,     0.51451,     0.51552,     0.51652,     0.51752,     0.51852,     0.51952,     0.52052,     0.52152,     0.52252,     0.52352,     0.52452,     0.52553,     0.52653,     0.52753,\n",
       "           0.52853,     0.52953,     0.53053,     0.53153,     0.53253,     0.53353,     0.53453,     0.53554,     0.53654,     0.53754,     0.53854,     0.53954,     0.54054,     0.54154,     0.54254,     0.54354,     0.54454,     0.54555,     0.54655,     0.54755,     0.54855,     0.54955,     0.55055,     0.55155,\n",
       "           0.55255,     0.55355,     0.55455,     0.55556,     0.55656,     0.55756,     0.55856,     0.55956,     0.56056,     0.56156,     0.56256,     0.56356,     0.56456,     0.56557,     0.56657,     0.56757,     0.56857,     0.56957,     0.57057,     0.57157,     0.57257,     0.57357,     0.57457,     0.57558,\n",
       "           0.57658,     0.57758,     0.57858,     0.57958,     0.58058,     0.58158,     0.58258,     0.58358,     0.58458,     0.58559,     0.58659,     0.58759,     0.58859,     0.58959,     0.59059,     0.59159,     0.59259,     0.59359,     0.59459,      0.5956,      0.5966,      0.5976,      0.5986,      0.5996,\n",
       "            0.6006,      0.6016,      0.6026,      0.6036,      0.6046,     0.60561,     0.60661,     0.60761,     0.60861,     0.60961,     0.61061,     0.61161,     0.61261,     0.61361,     0.61461,     0.61562,     0.61662,     0.61762,     0.61862,     0.61962,     0.62062,     0.62162,     0.62262,     0.62362,\n",
       "           0.62462,     0.62563,     0.62663,     0.62763,     0.62863,     0.62963,     0.63063,     0.63163,     0.63263,     0.63363,     0.63463,     0.63564,     0.63664,     0.63764,     0.63864,     0.63964,     0.64064,     0.64164,     0.64264,     0.64364,     0.64464,     0.64565,     0.64665,     0.64765,\n",
       "           0.64865,     0.64965,     0.65065,     0.65165,     0.65265,     0.65365,     0.65465,     0.65566,     0.65666,     0.65766,     0.65866,     0.65966,     0.66066,     0.66166,     0.66266,     0.66366,     0.66466,     0.66567,     0.66667,     0.66767,     0.66867,     0.66967,     0.67067,     0.67167,\n",
       "           0.67267,     0.67367,     0.67467,     0.67568,     0.67668,     0.67768,     0.67868,     0.67968,     0.68068,     0.68168,     0.68268,     0.68368,     0.68468,     0.68569,     0.68669,     0.68769,     0.68869,     0.68969,     0.69069,     0.69169,     0.69269,     0.69369,     0.69469,      0.6957,\n",
       "            0.6967,      0.6977,      0.6987,      0.6997,      0.7007,      0.7017,      0.7027,      0.7037,      0.7047,     0.70571,     0.70671,     0.70771,     0.70871,     0.70971,     0.71071,     0.71171,     0.71271,     0.71371,     0.71471,     0.71572,     0.71672,     0.71772,     0.71872,     0.71972,\n",
       "           0.72072,     0.72172,     0.72272,     0.72372,     0.72472,     0.72573,     0.72673,     0.72773,     0.72873,     0.72973,     0.73073,     0.73173,     0.73273,     0.73373,     0.73473,     0.73574,     0.73674,     0.73774,     0.73874,     0.73974,     0.74074,     0.74174,     0.74274,     0.74374,\n",
       "           0.74474,     0.74575,     0.74675,     0.74775,     0.74875,     0.74975,     0.75075,     0.75175,     0.75275,     0.75375,     0.75475,     0.75576,     0.75676,     0.75776,     0.75876,     0.75976,     0.76076,     0.76176,     0.76276,     0.76376,     0.76476,     0.76577,     0.76677,     0.76777,\n",
       "           0.76877,     0.76977,     0.77077,     0.77177,     0.77277,     0.77377,     0.77477,     0.77578,     0.77678,     0.77778,     0.77878,     0.77978,     0.78078,     0.78178,     0.78278,     0.78378,     0.78478,     0.78579,     0.78679,     0.78779,     0.78879,     0.78979,     0.79079,     0.79179,\n",
       "           0.79279,     0.79379,     0.79479,      0.7958,      0.7968,      0.7978,      0.7988,      0.7998,      0.8008,      0.8018,      0.8028,      0.8038,      0.8048,     0.80581,     0.80681,     0.80781,     0.80881,     0.80981,     0.81081,     0.81181,     0.81281,     0.81381,     0.81481,     0.81582,\n",
       "           0.81682,     0.81782,     0.81882,     0.81982,     0.82082,     0.82182,     0.82282,     0.82382,     0.82482,     0.82583,     0.82683,     0.82783,     0.82883,     0.82983,     0.83083,     0.83183,     0.83283,     0.83383,     0.83483,     0.83584,     0.83684,     0.83784,     0.83884,     0.83984,\n",
       "           0.84084,     0.84184,     0.84284,     0.84384,     0.84484,     0.84585,     0.84685,     0.84785,     0.84885,     0.84985,     0.85085,     0.85185,     0.85285,     0.85385,     0.85485,     0.85586,     0.85686,     0.85786,     0.85886,     0.85986,     0.86086,     0.86186,     0.86286,     0.86386,\n",
       "           0.86486,     0.86587,     0.86687,     0.86787,     0.86887,     0.86987,     0.87087,     0.87187,     0.87287,     0.87387,     0.87487,     0.87588,     0.87688,     0.87788,     0.87888,     0.87988,     0.88088,     0.88188,     0.88288,     0.88388,     0.88488,     0.88589,     0.88689,     0.88789,\n",
       "           0.88889,     0.88989,     0.89089,     0.89189,     0.89289,     0.89389,     0.89489,      0.8959,      0.8969,      0.8979,      0.8989,      0.8999,      0.9009,      0.9019,      0.9029,      0.9039,      0.9049,     0.90591,     0.90691,     0.90791,     0.90891,     0.90991,     0.91091,     0.91191,\n",
       "           0.91291,     0.91391,     0.91491,     0.91592,     0.91692,     0.91792,     0.91892,     0.91992,     0.92092,     0.92192,     0.92292,     0.92392,     0.92492,     0.92593,     0.92693,     0.92793,     0.92893,     0.92993,     0.93093,     0.93193,     0.93293,     0.93393,     0.93493,     0.93594,\n",
       "           0.93694,     0.93794,     0.93894,     0.93994,     0.94094,     0.94194,     0.94294,     0.94394,     0.94494,     0.94595,     0.94695,     0.94795,     0.94895,     0.94995,     0.95095,     0.95195,     0.95295,     0.95395,     0.95495,     0.95596,     0.95696,     0.95796,     0.95896,     0.95996,\n",
       "           0.96096,     0.96196,     0.96296,     0.96396,     0.96496,     0.96597,     0.96697,     0.96797,     0.96897,     0.96997,     0.97097,     0.97197,     0.97297,     0.97397,     0.97497,     0.97598,     0.97698,     0.97798,     0.97898,     0.97998,     0.98098,     0.98198,     0.98298,     0.98398,\n",
       "           0.98498,     0.98599,     0.98699,     0.98799,     0.98899,     0.98999,     0.99099,     0.99199,     0.99299,     0.99399,     0.99499,       0.996,       0.997,       0.998,       0.999,           1]), array([[          1,           1,           1,           1,           1,           1,           1,           1,           1,           1,           1,           1,           1,           1,           1,           1,           1,           1,           1,           1,           1,           1,           1,\n",
       "                  1,           1,           1,           1,           1,           1,           1,           1,           1,           1,           1,           1,           1,           1,           1,           1,           1,           1,           1,           1,           1,           1,           1,\n",
       "                  1,           1,           1,     0.99145,     0.99145,     0.99145,     0.99145,     0.99145,     0.99145,     0.99145,     0.99145,     0.99145,     0.99145,     0.99145,     0.99145,     0.99145,     0.99145,     0.99145,     0.99145,     0.99145,     0.99145,     0.99145,     0.99145,\n",
       "            0.99145,     0.99145,     0.99145,     0.99145,     0.99145,     0.99145,     0.99145,     0.99145,     0.99145,     0.99145,     0.99145,     0.99145,     0.99145,     0.99145,     0.98718,     0.98718,     0.98718,     0.98718,     0.98718,     0.98718,     0.98718,     0.98718,     0.98718,\n",
       "            0.98718,     0.98718,     0.98718,     0.98718,     0.98718,     0.98718,     0.98718,     0.98718,     0.98718,     0.98718,     0.98718,     0.98718,     0.98718,     0.98718,     0.98718,     0.98718,     0.98718,     0.98718,     0.98204,     0.98204,     0.98204,     0.98204,     0.98204,\n",
       "            0.98204,     0.98204,     0.97714,     0.97714,     0.97714,     0.97714,     0.97714,     0.96939,     0.96939,     0.96939,     0.96939,     0.96939,     0.96939,     0.96939,     0.96939,     0.96939,     0.96939,     0.96939,     0.96939,     0.96939,     0.96939,     0.96517,     0.96517,\n",
       "            0.96517,     0.96364,     0.96364,     0.96364,     0.96364,     0.96364,     0.96364,     0.96364,     0.96364,     0.96364,     0.96364,     0.96364,     0.96364,     0.96053,     0.96053,     0.96053,     0.96053,     0.96053,     0.95833,     0.95833,     0.95833,     0.95833,     0.95833,\n",
       "            0.95833,     0.95833,     0.95833,     0.95547,     0.95547,     0.95547,     0.95547,     0.95439,     0.95439,     0.95439,     0.95439,     0.95439,     0.95439,     0.95439,     0.95439,     0.95439,     0.95439,     0.95439,     0.95439,     0.95439,     0.95439,     0.95439,     0.95439,\n",
       "            0.95439,     0.95439,     0.95439,     0.95439,     0.95439,     0.95439,     0.95439,     0.95439,     0.95439,     0.95439,     0.95399,     0.95399,     0.95399,     0.95399,     0.95399,     0.95399,     0.95399,     0.95399,     0.95399,     0.95399,     0.95399,     0.95399,     0.95399,\n",
       "            0.95399,     0.95399,     0.95399,     0.95399,     0.95399,     0.95399,     0.95399,     0.95399,     0.95399,     0.95399,     0.95399,     0.95399,     0.95399,     0.95399,     0.95399,     0.95152,     0.95152,      0.9491,      0.9491,     0.94886,     0.94886,     0.94886,     0.94886,\n",
       "            0.94886,     0.94886,     0.94886,     0.94886,     0.94886,     0.94886,     0.94886,     0.94886,     0.94678,     0.94678,     0.94678,      0.9455,      0.9455,      0.9455,      0.9455,      0.9455,      0.9455,     0.94324,     0.94324,     0.94102,     0.93931,     0.93931,     0.93931,\n",
       "            0.93931,     0.93717,      0.9358,      0.9358,      0.9358,      0.9358,      0.9358,      0.9358,      0.9358,      0.9358,      0.9358,      0.9358,      0.9358,      0.9358,      0.9358,      0.9358,      0.9358,     0.93382,     0.93382,      0.9322,      0.9322,     0.93029,     0.93029,\n",
       "            0.92619,     0.92471,     0.92471,     0.92471,     0.92343,     0.92343,     0.92343,     0.92343,     0.91972,     0.91972,     0.91781,     0.91441,     0.91441,     0.91256,     0.91106,     0.91106,     0.91106,     0.91106,     0.91106,     0.91106,     0.91106,     0.91106,     0.91106,\n",
       "            0.90948,     0.90948,      0.9087,      0.9087,      0.9087,      0.9087,     0.90726,     0.90726,     0.90726,     0.90726,     0.90726,     0.90726,     0.90726,     0.90726,     0.90726,     0.90726,     0.90726,     0.90726,     0.90726,     0.90726,     0.90726,     0.90726,     0.90457,\n",
       "            0.90457,     0.90457,     0.90354,     0.90354,     0.90354,     0.90234,     0.90234,     0.90154,     0.90154,     0.90154,     0.90154,     0.89885,     0.89885,     0.89885,     0.89474,     0.89474,     0.89474,     0.89366,     0.89366,     0.89279,     0.89279,     0.89279,     0.89154,\n",
       "            0.89154,     0.89051,     0.89051,     0.88809,     0.88809,     0.88809,     0.88754,     0.88754,     0.88754,     0.88754,     0.88754,     0.88754,     0.88754,     0.88754,     0.88754,     0.88754,     0.88754,     0.88754,     0.88754,     0.88754,     0.88754,     0.88571,     0.88571,\n",
       "            0.88571,     0.88571,     0.88571,     0.88571,     0.88571,     0.88571,     0.88571,     0.88519,     0.88519,     0.88519,     0.88519,     0.88436,     0.88436,     0.88436,     0.88436,     0.88436,     0.88436,     0.88436,     0.88436,     0.88387,     0.88387,     0.88387,     0.88283,\n",
       "            0.88283,     0.88254,     0.88254,     0.88254,     0.88254,     0.88245,     0.88245,     0.88245,     0.88245,     0.88245,     0.88125,     0.87597,       0.875,     0.87406,     0.87406,     0.87406,     0.87406,     0.87406,     0.87406,     0.87406,     0.87406,     0.87406,     0.87406,\n",
       "            0.87406,     0.87294,     0.87183,     0.86982,     0.86982,     0.86715,     0.86715,     0.86715,     0.86715,     0.86667,     0.86667,     0.86667,     0.86657,     0.86657,     0.86657,     0.86657,     0.86571,     0.86571,     0.86261,     0.86261,     0.86197,     0.86197,     0.86096,\n",
       "            0.85793,     0.85793,     0.85793,     0.85793,     0.85793,     0.85793,     0.85479,     0.85356,     0.85356,     0.85356,     0.85356,     0.85356,     0.85356,     0.85356,     0.85356,     0.85356,     0.85356,     0.85356,     0.85356,     0.85356,     0.85356,     0.85356,     0.85356,\n",
       "            0.85356,      0.8534,      0.8534,      0.8534,     0.85137,     0.85104,     0.85104,     0.85104,     0.85013,     0.84507,     0.84204,     0.84157,     0.84157,     0.84091,     0.84045,     0.84045,     0.84045,     0.83915,     0.83915,     0.83831,     0.83354,     0.83313,     0.83313,\n",
       "            0.83313,     0.82746,     0.82729,     0.82729,     0.82729,     0.82676,     0.82676,     0.82676,     0.82676,     0.82676,      0.8264,      0.8264,     0.82562,     0.82118,     0.81988,     0.81988,     0.81723,     0.81588,     0.81588,     0.81588,     0.81588,     0.81588,     0.81558,\n",
       "            0.81558,     0.81498,     0.81498,     0.81498,     0.81498,     0.81469,     0.81469,     0.81469,     0.81075,     0.81075,     0.81069,     0.81069,     0.80642,     0.80485,     0.80418,     0.80022,     0.79523,      0.7931,     0.79292,     0.79292,     0.79193,     0.79193,     0.79193,\n",
       "            0.79193,     0.79193,     0.79131,     0.79031,     0.79031,      0.7897,     0.78909,     0.78832,     0.78832,     0.78816,     0.78816,     0.78816,     0.78719,     0.78719,     0.78287,     0.78287,     0.78287,     0.78287,     0.78138,     0.78138,     0.78138,     0.78034,     0.78034,\n",
       "            0.78034,     0.78034,     0.77944,     0.77944,     0.77888,       0.778,       0.778,     0.77668,     0.77657,     0.77657,     0.77571,     0.77571,      0.7714,     0.76812,      0.7676,     0.76561,      0.7619,      0.7619,     0.76186,     0.76186,     0.76011,     0.76011,     0.76011,\n",
       "            0.75772,     0.75772,     0.75535,     0.75487,     0.75231,        0.75,     0.74908,     0.74908,     0.74478,     0.74345,     0.74345,     0.74061,     0.74061,     0.74061,     0.74061,     0.74041,     0.74005,     0.74005,     0.74005,     0.74005,     0.74005,     0.73856,     0.73684,\n",
       "            0.73514,     0.73473,     0.73328,     0.73224,     0.72852,     0.72852,     0.72688,     0.72549,     0.72534,      0.7242,      0.7242,      0.7242,     0.72344,     0.72185,      0.7205,     0.72013,     0.71761,       0.717,       0.717,       0.717,       0.717,     0.71511,     0.71475,\n",
       "            0.71207,      0.7085,     0.70816,     0.70783,     0.70167,     0.70167,     0.70167,     0.70119,     0.70119,     0.70119,     0.70119,     0.69562,     0.69555,     0.69548,     0.69548,     0.69518,     0.69189,     0.68971,     0.68802,     0.68802,     0.68802,     0.68745,     0.68745,\n",
       "            0.68219,     0.68219,     0.68219,      0.6791,     0.67833,      0.6738,     0.67206,     0.67131,     0.66305,     0.66163,     0.66139,     0.66093,     0.66093,        0.66,      0.6593,     0.65466,     0.65358,     0.65358,     0.65358,     0.65358,     0.65248,     0.65248,     0.64889,\n",
       "            0.64779,     0.64759,     0.64629,     0.64476,     0.64261,     0.64247,     0.64247,     0.63968,     0.63868,     0.63868,     0.63551,     0.63533,     0.63245,     0.63217,     0.63217,     0.63217,     0.62786,     0.61985,      0.6178,      0.6178,     0.61686,     0.61475,      0.6079,\n",
       "            0.60739,     0.60173,     0.60173,     0.60161,     0.59804,     0.59356,     0.58617,     0.58617,     0.58617,     0.58617,     0.58412,     0.58412,     0.58358,     0.58142,     0.58133,     0.58089,     0.57968,     0.57916,      0.5784,     0.57797,     0.57755,     0.57637,     0.57529,\n",
       "            0.57347,     0.57078,      0.5707,     0.56573,     0.56502,     0.56042,     0.56042,     0.55929,     0.55929,       0.558,     0.55635,     0.55184,     0.55184,     0.55184,     0.55184,     0.55143,     0.55137,     0.54984,      0.5471,     0.54244,     0.53361,     0.53361,     0.52914,\n",
       "            0.52914,     0.52857,     0.52744,     0.52264,     0.52207,     0.51738,     0.51634,     0.51503,     0.51074,     0.50998,     0.50748,     0.50748,     0.50577,     0.50431,      0.5031,     0.50286,     0.50213,     0.50213,     0.49649,     0.48963,     0.48852,     0.48852,     0.48654,\n",
       "            0.48588,     0.48437,     0.48373,     0.48243,     0.48052,     0.47989,     0.47276,     0.46974,     0.46974,     0.46857,     0.46857,     0.46387,     0.46387,     0.46387,     0.45865,     0.45811,     0.45725,     0.45725,     0.45428,     0.45413,     0.45014,     0.45014,     0.44743,\n",
       "            0.44301,     0.44075,     0.43939,     0.43108,     0.42979,     0.42725,     0.42344,     0.42344,     0.41846,     0.41836,     0.41512,     0.41512,     0.41263,       0.412,       0.412,     0.41077,     0.40785,     0.40761,     0.40761,     0.40007,      0.3927,      0.3927,     0.38992,\n",
       "            0.38012,     0.37479,     0.37422,     0.37258,     0.36868,     0.36647,     0.36609,     0.35721,      0.3542,     0.35026,     0.34696,     0.34694,     0.34463,      0.3438,     0.33992,     0.33992,     0.33891,     0.33712,     0.33123,     0.32861,     0.32824,     0.32658,     0.31306,\n",
       "            0.30999,     0.30847,     0.30808,     0.30753,     0.30382,     0.29957,     0.29606,     0.29527,     0.29523,     0.28891,     0.28606,     0.28482,       0.282,     0.27675,     0.27395,     0.27117,     0.26782,     0.26781,     0.26594,     0.26508,     0.26459,     0.26219,     0.25496,\n",
       "            0.25258,     0.25179,     0.24671,     0.24611,     0.23741,     0.22877,     0.22414,     0.22358,     0.22263,     0.22147,     0.21822,     0.21822,      0.2175,     0.21608,     0.20984,     0.20665,     0.20259,     0.20252,     0.19812,     0.19735,     0.19147,     0.19138,     0.18591,\n",
       "            0.18379,     0.18366,     0.17863,     0.17741,      0.1742,     0.17328,     0.17183,     0.16956,     0.16954,     0.16917,     0.16268,       0.162,     0.15746,     0.15574,     0.15424,     0.15242,     0.15153,      0.1466,     0.14509,     0.13644,     0.13644,     0.13574,       0.134,\n",
       "            0.13364,     0.13073,     0.12983,     0.12413,     0.12023,     0.11992,      0.1143,     0.11385,     0.11224,     0.10964,     0.10876,     0.10601,     0.10551,     0.10315,     0.10064,     0.09448,    0.091551,    0.090813,     0.09064,    0.089161,    0.089161,    0.087283,    0.086427,\n",
       "           0.086154,    0.083344,    0.082197,     0.07746,     0.07513,    0.073807,     0.06692,    0.060973,    0.058013,     0.05767,    0.055032,    0.054022,    0.049674,    0.049085,    0.048816,    0.044596,    0.044145,    0.043951,    0.040345,    0.039299,    0.036377,    0.036122,    0.035869,\n",
       "           0.034188,    0.031292,    0.030723,    0.030154,    0.029585,    0.029016,    0.028447,    0.027879,     0.02731,    0.026741,    0.026172,    0.025603,    0.025034,    0.024465,    0.023896,    0.023327,    0.022758,    0.022189,     0.02162,    0.021051,    0.020482,    0.019913,    0.019344,\n",
       "           0.018775,    0.018206,    0.017637,    0.017068,      0.0165,    0.015931,    0.015362,    0.014793,    0.014224,    0.013655,    0.013086,    0.012517,    0.011948,    0.011379,     0.01081,    0.010241,   0.0096721,   0.0091032,   0.0085342,   0.0079653,   0.0073963,   0.0068274,   0.0062584,\n",
       "          0.0056895,   0.0051205,   0.0045516,   0.0039826,   0.0034137,   0.0028447,   0.0022758,   0.0017068,   0.0011379,  0.00056895,           0]]), 'Recall', 'Precision'], [array([          0,    0.001001,    0.002002,    0.003003,    0.004004,    0.005005,    0.006006,    0.007007,    0.008008,    0.009009,     0.01001,    0.011011,    0.012012,    0.013013,    0.014014,    0.015015,    0.016016,    0.017017,    0.018018,    0.019019,     0.02002,    0.021021,    0.022022,    0.023023,\n",
       "          0.024024,    0.025025,    0.026026,    0.027027,    0.028028,    0.029029,     0.03003,    0.031031,    0.032032,    0.033033,    0.034034,    0.035035,    0.036036,    0.037037,    0.038038,    0.039039,     0.04004,    0.041041,    0.042042,    0.043043,    0.044044,    0.045045,    0.046046,    0.047047,\n",
       "          0.048048,    0.049049,     0.05005,    0.051051,    0.052052,    0.053053,    0.054054,    0.055055,    0.056056,    0.057057,    0.058058,    0.059059,     0.06006,    0.061061,    0.062062,    0.063063,    0.064064,    0.065065,    0.066066,    0.067067,    0.068068,    0.069069,     0.07007,    0.071071,\n",
       "          0.072072,    0.073073,    0.074074,    0.075075,    0.076076,    0.077077,    0.078078,    0.079079,     0.08008,    0.081081,    0.082082,    0.083083,    0.084084,    0.085085,    0.086086,    0.087087,    0.088088,    0.089089,     0.09009,    0.091091,    0.092092,    0.093093,    0.094094,    0.095095,\n",
       "          0.096096,    0.097097,    0.098098,    0.099099,      0.1001,      0.1011,      0.1021,      0.1031,      0.1041,     0.10511,     0.10611,     0.10711,     0.10811,     0.10911,     0.11011,     0.11111,     0.11211,     0.11311,     0.11411,     0.11512,     0.11612,     0.11712,     0.11812,     0.11912,\n",
       "           0.12012,     0.12112,     0.12212,     0.12312,     0.12412,     0.12513,     0.12613,     0.12713,     0.12813,     0.12913,     0.13013,     0.13113,     0.13213,     0.13313,     0.13413,     0.13514,     0.13614,     0.13714,     0.13814,     0.13914,     0.14014,     0.14114,     0.14214,     0.14314,\n",
       "           0.14414,     0.14515,     0.14615,     0.14715,     0.14815,     0.14915,     0.15015,     0.15115,     0.15215,     0.15315,     0.15415,     0.15516,     0.15616,     0.15716,     0.15816,     0.15916,     0.16016,     0.16116,     0.16216,     0.16316,     0.16416,     0.16517,     0.16617,     0.16717,\n",
       "           0.16817,     0.16917,     0.17017,     0.17117,     0.17217,     0.17317,     0.17417,     0.17518,     0.17618,     0.17718,     0.17818,     0.17918,     0.18018,     0.18118,     0.18218,     0.18318,     0.18418,     0.18519,     0.18619,     0.18719,     0.18819,     0.18919,     0.19019,     0.19119,\n",
       "           0.19219,     0.19319,     0.19419,      0.1952,      0.1962,      0.1972,      0.1982,      0.1992,      0.2002,      0.2012,      0.2022,      0.2032,      0.2042,     0.20521,     0.20621,     0.20721,     0.20821,     0.20921,     0.21021,     0.21121,     0.21221,     0.21321,     0.21421,     0.21522,\n",
       "           0.21622,     0.21722,     0.21822,     0.21922,     0.22022,     0.22122,     0.22222,     0.22322,     0.22422,     0.22523,     0.22623,     0.22723,     0.22823,     0.22923,     0.23023,     0.23123,     0.23223,     0.23323,     0.23423,     0.23524,     0.23624,     0.23724,     0.23824,     0.23924,\n",
       "           0.24024,     0.24124,     0.24224,     0.24324,     0.24424,     0.24525,     0.24625,     0.24725,     0.24825,     0.24925,     0.25025,     0.25125,     0.25225,     0.25325,     0.25425,     0.25526,     0.25626,     0.25726,     0.25826,     0.25926,     0.26026,     0.26126,     0.26226,     0.26326,\n",
       "           0.26426,     0.26527,     0.26627,     0.26727,     0.26827,     0.26927,     0.27027,     0.27127,     0.27227,     0.27327,     0.27427,     0.27528,     0.27628,     0.27728,     0.27828,     0.27928,     0.28028,     0.28128,     0.28228,     0.28328,     0.28428,     0.28529,     0.28629,     0.28729,\n",
       "           0.28829,     0.28929,     0.29029,     0.29129,     0.29229,     0.29329,     0.29429,      0.2953,      0.2963,      0.2973,      0.2983,      0.2993,      0.3003,      0.3013,      0.3023,      0.3033,      0.3043,     0.30531,     0.30631,     0.30731,     0.30831,     0.30931,     0.31031,     0.31131,\n",
       "           0.31231,     0.31331,     0.31431,     0.31532,     0.31632,     0.31732,     0.31832,     0.31932,     0.32032,     0.32132,     0.32232,     0.32332,     0.32432,     0.32533,     0.32633,     0.32733,     0.32833,     0.32933,     0.33033,     0.33133,     0.33233,     0.33333,     0.33433,     0.33534,\n",
       "           0.33634,     0.33734,     0.33834,     0.33934,     0.34034,     0.34134,     0.34234,     0.34334,     0.34434,     0.34535,     0.34635,     0.34735,     0.34835,     0.34935,     0.35035,     0.35135,     0.35235,     0.35335,     0.35435,     0.35536,     0.35636,     0.35736,     0.35836,     0.35936,\n",
       "           0.36036,     0.36136,     0.36236,     0.36336,     0.36436,     0.36537,     0.36637,     0.36737,     0.36837,     0.36937,     0.37037,     0.37137,     0.37237,     0.37337,     0.37437,     0.37538,     0.37638,     0.37738,     0.37838,     0.37938,     0.38038,     0.38138,     0.38238,     0.38338,\n",
       "           0.38438,     0.38539,     0.38639,     0.38739,     0.38839,     0.38939,     0.39039,     0.39139,     0.39239,     0.39339,     0.39439,      0.3954,      0.3964,      0.3974,      0.3984,      0.3994,      0.4004,      0.4014,      0.4024,      0.4034,      0.4044,     0.40541,     0.40641,     0.40741,\n",
       "           0.40841,     0.40941,     0.41041,     0.41141,     0.41241,     0.41341,     0.41441,     0.41542,     0.41642,     0.41742,     0.41842,     0.41942,     0.42042,     0.42142,     0.42242,     0.42342,     0.42442,     0.42543,     0.42643,     0.42743,     0.42843,     0.42943,     0.43043,     0.43143,\n",
       "           0.43243,     0.43343,     0.43443,     0.43544,     0.43644,     0.43744,     0.43844,     0.43944,     0.44044,     0.44144,     0.44244,     0.44344,     0.44444,     0.44545,     0.44645,     0.44745,     0.44845,     0.44945,     0.45045,     0.45145,     0.45245,     0.45345,     0.45445,     0.45546,\n",
       "           0.45646,     0.45746,     0.45846,     0.45946,     0.46046,     0.46146,     0.46246,     0.46346,     0.46446,     0.46547,     0.46647,     0.46747,     0.46847,     0.46947,     0.47047,     0.47147,     0.47247,     0.47347,     0.47447,     0.47548,     0.47648,     0.47748,     0.47848,     0.47948,\n",
       "           0.48048,     0.48148,     0.48248,     0.48348,     0.48448,     0.48549,     0.48649,     0.48749,     0.48849,     0.48949,     0.49049,     0.49149,     0.49249,     0.49349,     0.49449,      0.4955,      0.4965,      0.4975,      0.4985,      0.4995,      0.5005,      0.5015,      0.5025,      0.5035,\n",
       "            0.5045,     0.50551,     0.50651,     0.50751,     0.50851,     0.50951,     0.51051,     0.51151,     0.51251,     0.51351,     0.51451,     0.51552,     0.51652,     0.51752,     0.51852,     0.51952,     0.52052,     0.52152,     0.52252,     0.52352,     0.52452,     0.52553,     0.52653,     0.52753,\n",
       "           0.52853,     0.52953,     0.53053,     0.53153,     0.53253,     0.53353,     0.53453,     0.53554,     0.53654,     0.53754,     0.53854,     0.53954,     0.54054,     0.54154,     0.54254,     0.54354,     0.54454,     0.54555,     0.54655,     0.54755,     0.54855,     0.54955,     0.55055,     0.55155,\n",
       "           0.55255,     0.55355,     0.55455,     0.55556,     0.55656,     0.55756,     0.55856,     0.55956,     0.56056,     0.56156,     0.56256,     0.56356,     0.56456,     0.56557,     0.56657,     0.56757,     0.56857,     0.56957,     0.57057,     0.57157,     0.57257,     0.57357,     0.57457,     0.57558,\n",
       "           0.57658,     0.57758,     0.57858,     0.57958,     0.58058,     0.58158,     0.58258,     0.58358,     0.58458,     0.58559,     0.58659,     0.58759,     0.58859,     0.58959,     0.59059,     0.59159,     0.59259,     0.59359,     0.59459,      0.5956,      0.5966,      0.5976,      0.5986,      0.5996,\n",
       "            0.6006,      0.6016,      0.6026,      0.6036,      0.6046,     0.60561,     0.60661,     0.60761,     0.60861,     0.60961,     0.61061,     0.61161,     0.61261,     0.61361,     0.61461,     0.61562,     0.61662,     0.61762,     0.61862,     0.61962,     0.62062,     0.62162,     0.62262,     0.62362,\n",
       "           0.62462,     0.62563,     0.62663,     0.62763,     0.62863,     0.62963,     0.63063,     0.63163,     0.63263,     0.63363,     0.63463,     0.63564,     0.63664,     0.63764,     0.63864,     0.63964,     0.64064,     0.64164,     0.64264,     0.64364,     0.64464,     0.64565,     0.64665,     0.64765,\n",
       "           0.64865,     0.64965,     0.65065,     0.65165,     0.65265,     0.65365,     0.65465,     0.65566,     0.65666,     0.65766,     0.65866,     0.65966,     0.66066,     0.66166,     0.66266,     0.66366,     0.66466,     0.66567,     0.66667,     0.66767,     0.66867,     0.66967,     0.67067,     0.67167,\n",
       "           0.67267,     0.67367,     0.67467,     0.67568,     0.67668,     0.67768,     0.67868,     0.67968,     0.68068,     0.68168,     0.68268,     0.68368,     0.68468,     0.68569,     0.68669,     0.68769,     0.68869,     0.68969,     0.69069,     0.69169,     0.69269,     0.69369,     0.69469,      0.6957,\n",
       "            0.6967,      0.6977,      0.6987,      0.6997,      0.7007,      0.7017,      0.7027,      0.7037,      0.7047,     0.70571,     0.70671,     0.70771,     0.70871,     0.70971,     0.71071,     0.71171,     0.71271,     0.71371,     0.71471,     0.71572,     0.71672,     0.71772,     0.71872,     0.71972,\n",
       "           0.72072,     0.72172,     0.72272,     0.72372,     0.72472,     0.72573,     0.72673,     0.72773,     0.72873,     0.72973,     0.73073,     0.73173,     0.73273,     0.73373,     0.73473,     0.73574,     0.73674,     0.73774,     0.73874,     0.73974,     0.74074,     0.74174,     0.74274,     0.74374,\n",
       "           0.74474,     0.74575,     0.74675,     0.74775,     0.74875,     0.74975,     0.75075,     0.75175,     0.75275,     0.75375,     0.75475,     0.75576,     0.75676,     0.75776,     0.75876,     0.75976,     0.76076,     0.76176,     0.76276,     0.76376,     0.76476,     0.76577,     0.76677,     0.76777,\n",
       "           0.76877,     0.76977,     0.77077,     0.77177,     0.77277,     0.77377,     0.77477,     0.77578,     0.77678,     0.77778,     0.77878,     0.77978,     0.78078,     0.78178,     0.78278,     0.78378,     0.78478,     0.78579,     0.78679,     0.78779,     0.78879,     0.78979,     0.79079,     0.79179,\n",
       "           0.79279,     0.79379,     0.79479,      0.7958,      0.7968,      0.7978,      0.7988,      0.7998,      0.8008,      0.8018,      0.8028,      0.8038,      0.8048,     0.80581,     0.80681,     0.80781,     0.80881,     0.80981,     0.81081,     0.81181,     0.81281,     0.81381,     0.81481,     0.81582,\n",
       "           0.81682,     0.81782,     0.81882,     0.81982,     0.82082,     0.82182,     0.82282,     0.82382,     0.82482,     0.82583,     0.82683,     0.82783,     0.82883,     0.82983,     0.83083,     0.83183,     0.83283,     0.83383,     0.83483,     0.83584,     0.83684,     0.83784,     0.83884,     0.83984,\n",
       "           0.84084,     0.84184,     0.84284,     0.84384,     0.84484,     0.84585,     0.84685,     0.84785,     0.84885,     0.84985,     0.85085,     0.85185,     0.85285,     0.85385,     0.85485,     0.85586,     0.85686,     0.85786,     0.85886,     0.85986,     0.86086,     0.86186,     0.86286,     0.86386,\n",
       "           0.86486,     0.86587,     0.86687,     0.86787,     0.86887,     0.86987,     0.87087,     0.87187,     0.87287,     0.87387,     0.87487,     0.87588,     0.87688,     0.87788,     0.87888,     0.87988,     0.88088,     0.88188,     0.88288,     0.88388,     0.88488,     0.88589,     0.88689,     0.88789,\n",
       "           0.88889,     0.88989,     0.89089,     0.89189,     0.89289,     0.89389,     0.89489,      0.8959,      0.8969,      0.8979,      0.8989,      0.8999,      0.9009,      0.9019,      0.9029,      0.9039,      0.9049,     0.90591,     0.90691,     0.90791,     0.90891,     0.90991,     0.91091,     0.91191,\n",
       "           0.91291,     0.91391,     0.91491,     0.91592,     0.91692,     0.91792,     0.91892,     0.91992,     0.92092,     0.92192,     0.92292,     0.92392,     0.92492,     0.92593,     0.92693,     0.92793,     0.92893,     0.92993,     0.93093,     0.93193,     0.93293,     0.93393,     0.93493,     0.93594,\n",
       "           0.93694,     0.93794,     0.93894,     0.93994,     0.94094,     0.94194,     0.94294,     0.94394,     0.94494,     0.94595,     0.94695,     0.94795,     0.94895,     0.94995,     0.95095,     0.95195,     0.95295,     0.95395,     0.95495,     0.95596,     0.95696,     0.95796,     0.95896,     0.95996,\n",
       "           0.96096,     0.96196,     0.96296,     0.96396,     0.96496,     0.96597,     0.96697,     0.96797,     0.96897,     0.96997,     0.97097,     0.97197,     0.97297,     0.97397,     0.97497,     0.97598,     0.97698,     0.97798,     0.97898,     0.97998,     0.98098,     0.98198,     0.98298,     0.98398,\n",
       "           0.98498,     0.98599,     0.98699,     0.98799,     0.98899,     0.98999,     0.99099,     0.99199,     0.99299,     0.99399,     0.99499,       0.996,       0.997,       0.998,       0.999,           1]), array([[    0.06111,     0.06111,    0.084397,     0.10268,     0.11827,     0.13366,     0.14677,     0.15897,     0.17007,     0.18097,     0.19224,     0.20174,     0.21091,     0.21954,     0.22817,     0.23617,     0.24413,     0.25259,     0.26009,     0.26644,     0.27317,     0.27993,     0.28557,\n",
       "            0.29149,     0.29737,     0.30361,     0.30973,     0.31625,     0.32244,     0.32817,     0.33369,     0.33973,     0.34536,     0.34947,     0.35355,     0.35767,     0.36166,     0.36578,     0.37042,     0.37448,     0.37805,     0.38208,     0.38666,     0.39048,      0.3937,     0.39756,\n",
       "            0.40116,      0.4037,     0.40619,     0.40975,     0.41236,     0.41573,     0.41993,     0.42214,     0.42504,     0.42804,     0.43111,     0.43394,     0.43682,     0.43928,     0.44283,     0.44582,      0.4489,     0.45123,     0.45442,     0.45767,     0.46014,     0.46273,     0.46637,\n",
       "            0.46881,     0.47064,     0.47349,      0.4765,     0.47872,      0.4806,     0.48242,     0.48437,     0.48682,     0.48953,     0.49185,     0.49299,     0.49578,     0.49803,      0.5015,     0.50446,     0.50612,      0.5081,     0.51056,     0.51183,     0.51476,     0.51786,     0.52002,\n",
       "            0.52389,     0.52553,     0.52751,      0.5283,     0.52991,     0.53214,     0.53382,     0.53544,     0.53734,     0.53946,     0.53974,     0.54105,     0.54245,     0.54259,     0.54361,     0.54527,     0.54705,     0.54767,     0.54928,     0.55028,     0.55152,     0.55307,     0.55476,\n",
       "            0.55573,     0.55704,     0.55874,     0.55986,     0.56226,     0.56315,     0.56409,     0.56482,      0.5659,     0.56746,     0.56928,     0.57078,     0.57046,     0.57177,     0.57314,     0.57368,     0.57476,     0.57539,     0.57566,     0.57688,     0.57832,       0.579,     0.57956,\n",
       "            0.58107,     0.58204,     0.58206,     0.58237,     0.58381,     0.58534,     0.58626,     0.58769,     0.58883,     0.58942,     0.58987,     0.59077,     0.59173,      0.5919,     0.59256,     0.59244,     0.59263,     0.59333,     0.59414,     0.59491,      0.5962,     0.59703,     0.59866,\n",
       "            0.59994,     0.60215,     0.60274,     0.60233,     0.60225,     0.60307,     0.60319,     0.60446,     0.60414,     0.60463,     0.60586,     0.60584,     0.60572,     0.60748,     0.60851,     0.60883,     0.60935,     0.61121,     0.61188,     0.61234,     0.61259,     0.61304,     0.61462,\n",
       "            0.61529,     0.61585,     0.61506,     0.61687,     0.61733,     0.61757,     0.61961,      0.6212,     0.62245,     0.62342,     0.62308,      0.6241,     0.62569,     0.62597,     0.62621,     0.62652,     0.62737,     0.62785,      0.6277,     0.62664,     0.62712,     0.62805,     0.62872,\n",
       "            0.62899,      0.6294,      0.6296,     0.62953,      0.6297,     0.62917,     0.62946,      0.6297,     0.63039,     0.63163,     0.63209,     0.63194,     0.63319,     0.63474,      0.6347,     0.63527,     0.63577,     0.63669,     0.63708,     0.63736,     0.63722,     0.63703,      0.6374,\n",
       "            0.63714,     0.63713,     0.63687,      0.6368,     0.63717,      0.6379,     0.63768,     0.63691,     0.63671,     0.63786,     0.63635,     0.63725,     0.63838,     0.63937,      0.6402,      0.6413,     0.64233,      0.6427,     0.64213,     0.64286,     0.64418,     0.64422,     0.64339,\n",
       "            0.64435,     0.64505,     0.64609,     0.64604,     0.64604,     0.64683,     0.64756,     0.64829,     0.64902,       0.649,     0.64913,     0.64958,     0.65047,     0.64968,      0.6502,     0.65056,     0.65046,      0.6514,      0.6516,     0.65293,     0.65408,     0.65429,     0.65509,\n",
       "            0.65613,     0.65561,     0.65514,     0.65506,     0.65544,     0.65597,     0.65569,     0.65624,     0.65624,     0.65679,     0.65662,     0.65797,     0.65781,     0.65714,     0.65715,     0.65726,     0.65724,     0.65754,     0.65797,     0.65762,     0.65776,     0.65776,     0.65753,\n",
       "            0.65739,      0.6581,     0.65885,      0.6591,     0.65845,     0.65754,     0.65688,     0.65714,     0.65742,     0.65795,     0.65844,     0.65906,     0.65806,     0.65757,     0.65785,     0.65788,     0.65769,     0.65797,     0.65944,     0.66017,     0.66094,     0.66135,     0.66148,\n",
       "            0.66147,     0.66155,     0.66185,     0.66219,     0.66288,     0.66317,     0.66306,      0.6623,     0.66326,     0.66364,     0.66222,     0.66358,     0.66408,     0.66457,     0.66469,     0.66477,     0.66418,     0.66445,     0.66261,     0.66336,      0.6639,     0.66399,     0.66399,\n",
       "            0.66399,     0.66448,     0.66351,     0.66273,      0.6633,     0.66398,     0.66443,     0.66465,     0.66436,     0.66399,     0.66341,     0.66308,     0.66275,     0.66094,     0.66139,     0.66214,     0.66225,     0.66271,     0.66305,     0.66318,     0.66327,     0.66336,     0.66336,\n",
       "            0.66339,     0.66412,      0.6643,     0.66411,     0.66371,     0.66428,     0.66398,     0.66303,     0.66224,     0.66255,      0.6623,     0.66282,     0.66205,     0.66182,     0.66195,     0.66212,     0.66238,      0.6619,     0.66065,     0.66065,     0.66091,     0.66086,     0.65993,\n",
       "            0.66006,     0.65968,     0.66039,     0.65988,     0.65958,     0.66001,     0.66053,     0.66027,     0.66041,     0.66032,     0.66025,     0.65997,     0.65969,     0.65992,      0.6606,     0.65981,     0.66014,      0.6576,     0.65705,     0.65697,      0.6572,     0.65734,     0.65725,\n",
       "            0.65642,     0.65657,     0.65574,     0.65519,     0.65521,      0.6544,     0.65511,     0.65437,     0.65464,     0.65442,     0.65542,     0.65514,     0.65441,      0.6544,     0.65467,     0.65467,     0.65466,     0.65523,     0.65492,     0.65447,     0.65419,     0.65468,     0.65416,\n",
       "             0.6547,     0.65466,      0.6541,     0.65245,     0.65305,     0.65183,     0.65154,     0.65113,      0.6514,     0.65194,     0.65221,     0.65193,     0.65219,      0.6508,     0.65161,     0.65214,     0.65259,     0.65087,     0.65048,     0.64934,     0.64906,     0.64839,     0.64766,\n",
       "            0.64793,     0.64663,     0.64576,      0.6451,     0.64538,     0.64456,     0.64341,     0.64363,     0.64305,     0.64195,     0.64165,     0.64181,      0.6419,     0.64218,       0.642,     0.64084,     0.63964,     0.63759,     0.63809,     0.63765,     0.63721,     0.63735,     0.63687,\n",
       "            0.63627,     0.63605,     0.63574,      0.6353,     0.63295,     0.63251,     0.63265,     0.63251,     0.63254,     0.63144,     0.63114,     0.63101,     0.63094,      0.6307,     0.63039,      0.6306,     0.63074,     0.63122,      0.6315,     0.63146,     0.63115,      0.6317,     0.63166,\n",
       "            0.63126,      0.6314,     0.63164,     0.63128,     0.63161,     0.63205,     0.63219,     0.63233,     0.63247,     0.63018,     0.62984,     0.62945,     0.62941,     0.62969,     0.62936,     0.62722,     0.62546,     0.62533,      0.6236,     0.62316,     0.62086,     0.62036,     0.62014,\n",
       "            0.61987,     0.61887,     0.61911,     0.61925,     0.61882,     0.61906,     0.61905,     0.61894,     0.61908,     0.61682,      0.6165,     0.61603,     0.61416,     0.61403,     0.61378,     0.61342,     0.61278,     0.61214,     0.61116,     0.61081,     0.61099,     0.61113,     0.61165,\n",
       "            0.61023,     0.61022,     0.61037,      0.6092,     0.61021,     0.60988,      0.6086,     0.60804,     0.60786,     0.60674,     0.60642,     0.60455,     0.60382,     0.60347,     0.60375,     0.60394,     0.60408,     0.60365,     0.60359,     0.60373,     0.60351,      0.6039,     0.60266,\n",
       "            0.60136,     0.60127,     0.60094,     0.60119,     0.60019,     0.59851,     0.59721,     0.59676,     0.59619,     0.59487,      0.5929,     0.59092,     0.59025,     0.58957,     0.58627,     0.58559,     0.58488,     0.58502,     0.58528,     0.58509,     0.58482,     0.58458,     0.58467,\n",
       "            0.58477,     0.58362,      0.5839,     0.58262,     0.58194,     0.57992,     0.57971,     0.57937,     0.57903,     0.57927,     0.57885,     0.57749,     0.57705,     0.57638,     0.57527,     0.57541,     0.57587,     0.57587,     0.57541,     0.57473,     0.57396,     0.57361,     0.57155,\n",
       "            0.57089,     0.57111,     0.57041,     0.56848,     0.56847,     0.56812,     0.56708,     0.56673,     0.56475,     0.56505,     0.56484,     0.56325,     0.56332,     0.56296,     0.56285,     0.56064,     0.55822,      0.5577,     0.55702,      0.5556,     0.55304,     0.55237,     0.55256,\n",
       "            0.55105,     0.55176,     0.55118,     0.55082,      0.5502,     0.54698,     0.54651,      0.5465,     0.54433,     0.54335,     0.54205,     0.54147,     0.54084,      0.5401,     0.53887,     0.53802,     0.53706,     0.53486,     0.53235,     0.53248,     0.53252,     0.53045,     0.53043,\n",
       "             0.5287,     0.52794,     0.52719,     0.52643,     0.52605,     0.52563,     0.52513,     0.52441,     0.52217,     0.52066,     0.51781,     0.51731,     0.51504,      0.5124,     0.51201,     0.51009,     0.50773,     0.50513,      0.5046,     0.50382,     0.50235,     0.50086,     0.49988,\n",
       "            0.49864,     0.49785,      0.4979,     0.49485,     0.49353,     0.49243,     0.49102,     0.49022,     0.48903,      0.4882,     0.48675,     0.48571,     0.48585,     0.48335,     0.48295,     0.48246,     0.48212,     0.47982,     0.47716,      0.4766,      0.4735,     0.47345,     0.47156,\n",
       "            0.46978,     0.46815,     0.46621,     0.46565,     0.46322,     0.46075,      0.4595,     0.45784,     0.45681,     0.45632,     0.45192,     0.45131,     0.44779,     0.44596,     0.44418,     0.44187,      0.4404,     0.43985,     0.43927,     0.43632,      0.4358,     0.43428,     0.43353,\n",
       "             0.4327,     0.43211,     0.42974,     0.42688,     0.42631,     0.42646,     0.42517,     0.42389,     0.42107,     0.42032,     0.42048,     0.41622,     0.41513,     0.41398,     0.41087,     0.40527,     0.40331,     0.40059,     0.39927,     0.39582,     0.39339,     0.39345,     0.39175,\n",
       "            0.38915,     0.38728,     0.38499,     0.38289,     0.38186,     0.38003,     0.37922,     0.37702,     0.37443,     0.37372,     0.37277,     0.36783,     0.36571,       0.365,     0.36414,     0.35919,     0.35689,     0.35199,     0.34819,     0.34553,     0.34327,     0.33934,      0.3371,\n",
       "            0.33261,     0.33118,     0.32661,     0.32543,     0.32196,     0.32139,     0.31766,     0.31435,     0.31255,     0.30827,      0.3064,      0.3001,     0.29714,     0.29408,     0.29002,     0.28644,     0.28574,     0.28121,     0.27767,     0.27453,     0.27381,     0.27014,      0.2656,\n",
       "             0.2597,     0.25768,     0.25442,     0.24875,     0.24733,     0.24319,     0.23497,     0.23126,     0.22787,       0.226,     0.22218,     0.21922,     0.21807,     0.21658,     0.21207,     0.20533,     0.20296,     0.19738,     0.19142,     0.18975,     0.18664,     0.17835,     0.17498,\n",
       "            0.16994,      0.1663,     0.15783,     0.15181,      0.1491,     0.14681,     0.14185,     0.13735,     0.13556,     0.12982,     0.12918,     0.12418,     0.12035,     0.11398,     0.10884,     0.10495,     0.10104,    0.097307,    0.095764,    0.090585,    0.086567,    0.085568,    0.082566,\n",
       "           0.080923,    0.076948,    0.069644,    0.067789,    0.062849,    0.062164,    0.056891,    0.053418,    0.050009,    0.043147,    0.037672,    0.036167,    0.034442,    0.033278,    0.029116,    0.028549,    0.027908,    0.026961,    0.026186,    0.025475,    0.024763,    0.024051,    0.023534,\n",
       "           0.023059,    0.022583,    0.018152,    0.017674,    0.017196,    0.016601,    0.015883,    0.015036,    0.013942,   0.0097851,   0.0084244,   0.0077002,   0.0068537,    0.005612,   0.0052489,   0.0048857,   0.0045224,   0.0041707,   0.0038475,   0.0035242,   0.0032008,   0.0028773,   0.0027139,\n",
       "          0.0025683,   0.0024226,    0.002277,   0.0021313,   0.0019856,   0.0018398,   0.0016941,   0.0015483,           0,           0,           0,           0,           0,           0,           0,           0,           0,           0,           0,           0,           0,           0,           0,\n",
       "                  0,           0,           0,           0,           0,           0,           0,           0,           0,           0,           0,           0,           0,           0,           0,           0,           0,           0,           0,           0,           0,           0,           0,\n",
       "                  0,           0,           0,           0,           0,           0,           0,           0,           0,           0,           0,           0,           0,           0,           0,           0,           0,           0,           0,           0,           0,           0,           0,\n",
       "                  0,           0,           0,           0,           0,           0,           0,           0,           0,           0,           0,           0,           0,           0,           0,           0,           0,           0,           0,           0,           0,           0,           0,\n",
       "                  0,           0,           0,           0,           0,           0,           0,           0,           0,           0,           0]]), 'Confidence', 'F1'], [array([          0,    0.001001,    0.002002,    0.003003,    0.004004,    0.005005,    0.006006,    0.007007,    0.008008,    0.009009,     0.01001,    0.011011,    0.012012,    0.013013,    0.014014,    0.015015,    0.016016,    0.017017,    0.018018,    0.019019,     0.02002,    0.021021,    0.022022,    0.023023,\n",
       "          0.024024,    0.025025,    0.026026,    0.027027,    0.028028,    0.029029,     0.03003,    0.031031,    0.032032,    0.033033,    0.034034,    0.035035,    0.036036,    0.037037,    0.038038,    0.039039,     0.04004,    0.041041,    0.042042,    0.043043,    0.044044,    0.045045,    0.046046,    0.047047,\n",
       "          0.048048,    0.049049,     0.05005,    0.051051,    0.052052,    0.053053,    0.054054,    0.055055,    0.056056,    0.057057,    0.058058,    0.059059,     0.06006,    0.061061,    0.062062,    0.063063,    0.064064,    0.065065,    0.066066,    0.067067,    0.068068,    0.069069,     0.07007,    0.071071,\n",
       "          0.072072,    0.073073,    0.074074,    0.075075,    0.076076,    0.077077,    0.078078,    0.079079,     0.08008,    0.081081,    0.082082,    0.083083,    0.084084,    0.085085,    0.086086,    0.087087,    0.088088,    0.089089,     0.09009,    0.091091,    0.092092,    0.093093,    0.094094,    0.095095,\n",
       "          0.096096,    0.097097,    0.098098,    0.099099,      0.1001,      0.1011,      0.1021,      0.1031,      0.1041,     0.10511,     0.10611,     0.10711,     0.10811,     0.10911,     0.11011,     0.11111,     0.11211,     0.11311,     0.11411,     0.11512,     0.11612,     0.11712,     0.11812,     0.11912,\n",
       "           0.12012,     0.12112,     0.12212,     0.12312,     0.12412,     0.12513,     0.12613,     0.12713,     0.12813,     0.12913,     0.13013,     0.13113,     0.13213,     0.13313,     0.13413,     0.13514,     0.13614,     0.13714,     0.13814,     0.13914,     0.14014,     0.14114,     0.14214,     0.14314,\n",
       "           0.14414,     0.14515,     0.14615,     0.14715,     0.14815,     0.14915,     0.15015,     0.15115,     0.15215,     0.15315,     0.15415,     0.15516,     0.15616,     0.15716,     0.15816,     0.15916,     0.16016,     0.16116,     0.16216,     0.16316,     0.16416,     0.16517,     0.16617,     0.16717,\n",
       "           0.16817,     0.16917,     0.17017,     0.17117,     0.17217,     0.17317,     0.17417,     0.17518,     0.17618,     0.17718,     0.17818,     0.17918,     0.18018,     0.18118,     0.18218,     0.18318,     0.18418,     0.18519,     0.18619,     0.18719,     0.18819,     0.18919,     0.19019,     0.19119,\n",
       "           0.19219,     0.19319,     0.19419,      0.1952,      0.1962,      0.1972,      0.1982,      0.1992,      0.2002,      0.2012,      0.2022,      0.2032,      0.2042,     0.20521,     0.20621,     0.20721,     0.20821,     0.20921,     0.21021,     0.21121,     0.21221,     0.21321,     0.21421,     0.21522,\n",
       "           0.21622,     0.21722,     0.21822,     0.21922,     0.22022,     0.22122,     0.22222,     0.22322,     0.22422,     0.22523,     0.22623,     0.22723,     0.22823,     0.22923,     0.23023,     0.23123,     0.23223,     0.23323,     0.23423,     0.23524,     0.23624,     0.23724,     0.23824,     0.23924,\n",
       "           0.24024,     0.24124,     0.24224,     0.24324,     0.24424,     0.24525,     0.24625,     0.24725,     0.24825,     0.24925,     0.25025,     0.25125,     0.25225,     0.25325,     0.25425,     0.25526,     0.25626,     0.25726,     0.25826,     0.25926,     0.26026,     0.26126,     0.26226,     0.26326,\n",
       "           0.26426,     0.26527,     0.26627,     0.26727,     0.26827,     0.26927,     0.27027,     0.27127,     0.27227,     0.27327,     0.27427,     0.27528,     0.27628,     0.27728,     0.27828,     0.27928,     0.28028,     0.28128,     0.28228,     0.28328,     0.28428,     0.28529,     0.28629,     0.28729,\n",
       "           0.28829,     0.28929,     0.29029,     0.29129,     0.29229,     0.29329,     0.29429,      0.2953,      0.2963,      0.2973,      0.2983,      0.2993,      0.3003,      0.3013,      0.3023,      0.3033,      0.3043,     0.30531,     0.30631,     0.30731,     0.30831,     0.30931,     0.31031,     0.31131,\n",
       "           0.31231,     0.31331,     0.31431,     0.31532,     0.31632,     0.31732,     0.31832,     0.31932,     0.32032,     0.32132,     0.32232,     0.32332,     0.32432,     0.32533,     0.32633,     0.32733,     0.32833,     0.32933,     0.33033,     0.33133,     0.33233,     0.33333,     0.33433,     0.33534,\n",
       "           0.33634,     0.33734,     0.33834,     0.33934,     0.34034,     0.34134,     0.34234,     0.34334,     0.34434,     0.34535,     0.34635,     0.34735,     0.34835,     0.34935,     0.35035,     0.35135,     0.35235,     0.35335,     0.35435,     0.35536,     0.35636,     0.35736,     0.35836,     0.35936,\n",
       "           0.36036,     0.36136,     0.36236,     0.36336,     0.36436,     0.36537,     0.36637,     0.36737,     0.36837,     0.36937,     0.37037,     0.37137,     0.37237,     0.37337,     0.37437,     0.37538,     0.37638,     0.37738,     0.37838,     0.37938,     0.38038,     0.38138,     0.38238,     0.38338,\n",
       "           0.38438,     0.38539,     0.38639,     0.38739,     0.38839,     0.38939,     0.39039,     0.39139,     0.39239,     0.39339,     0.39439,      0.3954,      0.3964,      0.3974,      0.3984,      0.3994,      0.4004,      0.4014,      0.4024,      0.4034,      0.4044,     0.40541,     0.40641,     0.40741,\n",
       "           0.40841,     0.40941,     0.41041,     0.41141,     0.41241,     0.41341,     0.41441,     0.41542,     0.41642,     0.41742,     0.41842,     0.41942,     0.42042,     0.42142,     0.42242,     0.42342,     0.42442,     0.42543,     0.42643,     0.42743,     0.42843,     0.42943,     0.43043,     0.43143,\n",
       "           0.43243,     0.43343,     0.43443,     0.43544,     0.43644,     0.43744,     0.43844,     0.43944,     0.44044,     0.44144,     0.44244,     0.44344,     0.44444,     0.44545,     0.44645,     0.44745,     0.44845,     0.44945,     0.45045,     0.45145,     0.45245,     0.45345,     0.45445,     0.45546,\n",
       "           0.45646,     0.45746,     0.45846,     0.45946,     0.46046,     0.46146,     0.46246,     0.46346,     0.46446,     0.46547,     0.46647,     0.46747,     0.46847,     0.46947,     0.47047,     0.47147,     0.47247,     0.47347,     0.47447,     0.47548,     0.47648,     0.47748,     0.47848,     0.47948,\n",
       "           0.48048,     0.48148,     0.48248,     0.48348,     0.48448,     0.48549,     0.48649,     0.48749,     0.48849,     0.48949,     0.49049,     0.49149,     0.49249,     0.49349,     0.49449,      0.4955,      0.4965,      0.4975,      0.4985,      0.4995,      0.5005,      0.5015,      0.5025,      0.5035,\n",
       "            0.5045,     0.50551,     0.50651,     0.50751,     0.50851,     0.50951,     0.51051,     0.51151,     0.51251,     0.51351,     0.51451,     0.51552,     0.51652,     0.51752,     0.51852,     0.51952,     0.52052,     0.52152,     0.52252,     0.52352,     0.52452,     0.52553,     0.52653,     0.52753,\n",
       "           0.52853,     0.52953,     0.53053,     0.53153,     0.53253,     0.53353,     0.53453,     0.53554,     0.53654,     0.53754,     0.53854,     0.53954,     0.54054,     0.54154,     0.54254,     0.54354,     0.54454,     0.54555,     0.54655,     0.54755,     0.54855,     0.54955,     0.55055,     0.55155,\n",
       "           0.55255,     0.55355,     0.55455,     0.55556,     0.55656,     0.55756,     0.55856,     0.55956,     0.56056,     0.56156,     0.56256,     0.56356,     0.56456,     0.56557,     0.56657,     0.56757,     0.56857,     0.56957,     0.57057,     0.57157,     0.57257,     0.57357,     0.57457,     0.57558,\n",
       "           0.57658,     0.57758,     0.57858,     0.57958,     0.58058,     0.58158,     0.58258,     0.58358,     0.58458,     0.58559,     0.58659,     0.58759,     0.58859,     0.58959,     0.59059,     0.59159,     0.59259,     0.59359,     0.59459,      0.5956,      0.5966,      0.5976,      0.5986,      0.5996,\n",
       "            0.6006,      0.6016,      0.6026,      0.6036,      0.6046,     0.60561,     0.60661,     0.60761,     0.60861,     0.60961,     0.61061,     0.61161,     0.61261,     0.61361,     0.61461,     0.61562,     0.61662,     0.61762,     0.61862,     0.61962,     0.62062,     0.62162,     0.62262,     0.62362,\n",
       "           0.62462,     0.62563,     0.62663,     0.62763,     0.62863,     0.62963,     0.63063,     0.63163,     0.63263,     0.63363,     0.63463,     0.63564,     0.63664,     0.63764,     0.63864,     0.63964,     0.64064,     0.64164,     0.64264,     0.64364,     0.64464,     0.64565,     0.64665,     0.64765,\n",
       "           0.64865,     0.64965,     0.65065,     0.65165,     0.65265,     0.65365,     0.65465,     0.65566,     0.65666,     0.65766,     0.65866,     0.65966,     0.66066,     0.66166,     0.66266,     0.66366,     0.66466,     0.66567,     0.66667,     0.66767,     0.66867,     0.66967,     0.67067,     0.67167,\n",
       "           0.67267,     0.67367,     0.67467,     0.67568,     0.67668,     0.67768,     0.67868,     0.67968,     0.68068,     0.68168,     0.68268,     0.68368,     0.68468,     0.68569,     0.68669,     0.68769,     0.68869,     0.68969,     0.69069,     0.69169,     0.69269,     0.69369,     0.69469,      0.6957,\n",
       "            0.6967,      0.6977,      0.6987,      0.6997,      0.7007,      0.7017,      0.7027,      0.7037,      0.7047,     0.70571,     0.70671,     0.70771,     0.70871,     0.70971,     0.71071,     0.71171,     0.71271,     0.71371,     0.71471,     0.71572,     0.71672,     0.71772,     0.71872,     0.71972,\n",
       "           0.72072,     0.72172,     0.72272,     0.72372,     0.72472,     0.72573,     0.72673,     0.72773,     0.72873,     0.72973,     0.73073,     0.73173,     0.73273,     0.73373,     0.73473,     0.73574,     0.73674,     0.73774,     0.73874,     0.73974,     0.74074,     0.74174,     0.74274,     0.74374,\n",
       "           0.74474,     0.74575,     0.74675,     0.74775,     0.74875,     0.74975,     0.75075,     0.75175,     0.75275,     0.75375,     0.75475,     0.75576,     0.75676,     0.75776,     0.75876,     0.75976,     0.76076,     0.76176,     0.76276,     0.76376,     0.76476,     0.76577,     0.76677,     0.76777,\n",
       "           0.76877,     0.76977,     0.77077,     0.77177,     0.77277,     0.77377,     0.77477,     0.77578,     0.77678,     0.77778,     0.77878,     0.77978,     0.78078,     0.78178,     0.78278,     0.78378,     0.78478,     0.78579,     0.78679,     0.78779,     0.78879,     0.78979,     0.79079,     0.79179,\n",
       "           0.79279,     0.79379,     0.79479,      0.7958,      0.7968,      0.7978,      0.7988,      0.7998,      0.8008,      0.8018,      0.8028,      0.8038,      0.8048,     0.80581,     0.80681,     0.80781,     0.80881,     0.80981,     0.81081,     0.81181,     0.81281,     0.81381,     0.81481,     0.81582,\n",
       "           0.81682,     0.81782,     0.81882,     0.81982,     0.82082,     0.82182,     0.82282,     0.82382,     0.82482,     0.82583,     0.82683,     0.82783,     0.82883,     0.82983,     0.83083,     0.83183,     0.83283,     0.83383,     0.83483,     0.83584,     0.83684,     0.83784,     0.83884,     0.83984,\n",
       "           0.84084,     0.84184,     0.84284,     0.84384,     0.84484,     0.84585,     0.84685,     0.84785,     0.84885,     0.84985,     0.85085,     0.85185,     0.85285,     0.85385,     0.85485,     0.85586,     0.85686,     0.85786,     0.85886,     0.85986,     0.86086,     0.86186,     0.86286,     0.86386,\n",
       "           0.86486,     0.86587,     0.86687,     0.86787,     0.86887,     0.86987,     0.87087,     0.87187,     0.87287,     0.87387,     0.87487,     0.87588,     0.87688,     0.87788,     0.87888,     0.87988,     0.88088,     0.88188,     0.88288,     0.88388,     0.88488,     0.88589,     0.88689,     0.88789,\n",
       "           0.88889,     0.88989,     0.89089,     0.89189,     0.89289,     0.89389,     0.89489,      0.8959,      0.8969,      0.8979,      0.8989,      0.8999,      0.9009,      0.9019,      0.9029,      0.9039,      0.9049,     0.90591,     0.90691,     0.90791,     0.90891,     0.90991,     0.91091,     0.91191,\n",
       "           0.91291,     0.91391,     0.91491,     0.91592,     0.91692,     0.91792,     0.91892,     0.91992,     0.92092,     0.92192,     0.92292,     0.92392,     0.92492,     0.92593,     0.92693,     0.92793,     0.92893,     0.92993,     0.93093,     0.93193,     0.93293,     0.93393,     0.93493,     0.93594,\n",
       "           0.93694,     0.93794,     0.93894,     0.93994,     0.94094,     0.94194,     0.94294,     0.94394,     0.94494,     0.94595,     0.94695,     0.94795,     0.94895,     0.94995,     0.95095,     0.95195,     0.95295,     0.95395,     0.95495,     0.95596,     0.95696,     0.95796,     0.95896,     0.95996,\n",
       "           0.96096,     0.96196,     0.96296,     0.96396,     0.96496,     0.96597,     0.96697,     0.96797,     0.96897,     0.96997,     0.97097,     0.97197,     0.97297,     0.97397,     0.97497,     0.97598,     0.97698,     0.97798,     0.97898,     0.97998,     0.98098,     0.98198,     0.98298,     0.98398,\n",
       "           0.98498,     0.98599,     0.98699,     0.98799,     0.98899,     0.98999,     0.99099,     0.99199,     0.99299,     0.99399,     0.99499,       0.996,       0.997,       0.998,       0.999,           1]), array([[   0.031577,    0.031577,     0.04419,    0.054337,    0.063161,    0.072023,    0.079725,    0.087005,    0.093769,     0.10044,     0.10749,     0.11352,      0.1194,     0.12501,     0.13067,     0.13602,     0.14139,     0.14713,     0.15229,     0.15675,     0.16147,     0.16627,      0.1704,\n",
       "            0.17474,     0.17908,     0.18369,     0.18825,     0.19316,     0.19787,     0.20228,     0.20657,     0.21135,     0.21572,     0.21917,     0.22253,     0.22596,      0.2292,     0.23258,     0.23634,     0.23971,     0.24264,     0.24603,     0.24996,     0.25329,     0.25614,     0.25942,\n",
       "            0.26256,     0.26495,     0.26724,     0.27047,     0.27291,     0.27601,     0.27981,     0.28186,     0.28444,     0.28739,     0.29025,     0.29282,     0.29572,     0.29816,     0.30153,      0.3044,     0.30748,     0.31007,     0.31319,     0.31639,     0.31876,     0.32124,     0.32477,\n",
       "            0.32725,     0.32926,     0.33229,     0.33526,     0.33759,      0.3397,     0.34189,     0.34398,     0.34684,     0.34973,     0.35224,     0.35354,     0.35656,     0.35902,     0.36264,     0.36589,     0.36808,     0.37033,      0.3731,     0.37467,     0.37807,     0.38158,     0.38393,\n",
       "            0.38816,     0.39031,     0.39258,     0.39371,     0.39551,     0.39799,     0.40022,     0.40206,     0.40419,      0.4066,     0.40765,     0.40915,     0.41076,     0.41167,     0.41324,     0.41574,     0.41782,     0.41894,     0.42103,     0.42221,     0.42408,     0.42591,     0.42813,\n",
       "            0.42972,      0.4315,     0.43354,     0.43489,     0.43779,      0.4391,     0.44046,     0.44159,     0.44313,     0.44518,     0.44776,     0.44961,     0.44988,     0.45156,     0.45328,     0.45419,     0.45603,     0.45757,     0.45866,     0.46022,     0.46205,     0.46343,      0.4644,\n",
       "            0.46634,     0.46786,     0.46842,     0.46961,     0.47149,     0.47376,     0.47523,     0.47712,     0.47862,     0.47968,     0.48057,     0.48204,     0.48362,     0.48442,     0.48539,     0.48572,     0.48656,      0.4881,     0.48919,     0.49054,      0.4923,     0.49372,     0.49597,\n",
       "            0.49804,     0.50109,     0.50204,     0.50229,     0.50298,      0.5043,     0.50477,     0.50688,     0.50718,      0.5081,     0.50992,     0.51014,     0.51064,     0.51315,     0.51497,     0.51611,     0.51717,     0.51989,     0.52086,     0.52188,      0.5226,     0.52361,     0.52592,\n",
       "            0.52689,     0.52844,     0.52855,     0.53143,     0.53211,     0.53323,     0.53628,     0.53866,     0.54054,     0.54242,     0.54222,     0.54382,     0.54624,     0.54693,     0.54782,      0.5483,     0.55001,     0.55115,     0.55174,     0.55214,      0.5529,     0.55435,      0.5554,\n",
       "            0.55615,     0.55687,     0.55719,     0.55749,     0.55819,     0.55864,      0.5591,     0.56034,     0.56143,     0.56384,     0.56501,     0.56566,     0.56767,     0.57016,     0.57049,     0.57193,     0.57274,     0.57516,     0.57626,     0.57719,     0.57729,     0.57852,     0.57914,\n",
       "            0.57968,     0.58035,      0.5811,     0.58129,     0.58212,     0.58336,     0.58396,     0.58366,     0.58376,     0.58575,      0.5857,     0.58774,     0.58967,     0.59136,     0.59277,     0.59519,     0.59696,     0.59761,     0.59767,     0.59895,     0.60124,     0.60151,     0.60147,\n",
       "            0.60315,     0.60492,     0.60674,     0.60722,     0.60769,     0.60917,     0.61046,     0.61176,     0.61307,     0.61359,     0.61382,     0.61464,     0.61767,     0.61767,     0.61861,     0.61927,     0.61962,     0.62197,     0.62234,     0.62476,     0.62687,     0.62769,     0.62934,\n",
       "            0.63126,     0.63193,     0.63169,     0.63234,     0.63366,     0.63514,     0.63537,      0.6364,     0.63805,     0.63958,     0.63967,     0.64222,     0.64232,     0.64258,     0.64326,     0.64413,     0.64458,     0.64533,     0.64626,     0.64615,     0.64641,     0.64775,     0.64798,\n",
       "            0.64857,     0.65044,     0.65189,     0.65239,     0.65317,       0.653,     0.65284,     0.65336,      0.6546,     0.65637,     0.65735,      0.6593,     0.66055,     0.66137,     0.66263,     0.66296,     0.66305,      0.6636,      0.6666,      0.6681,     0.67044,     0.67205,     0.67307,\n",
       "            0.67362,     0.67397,     0.67537,     0.67608,     0.67753,     0.67812,       0.679,     0.67863,     0.68067,     0.68146,     0.68133,     0.68453,     0.68559,     0.68664,     0.68691,     0.68737,     0.68708,     0.68801,     0.68734,     0.68895,     0.69179,     0.69281,     0.69316,\n",
       "            0.69366,     0.69508,     0.69504,     0.69552,     0.69727,     0.69878,     0.69978,     0.70031,     0.70017,     0.70086,     0.70059,     0.70087,     0.70132,     0.70074,     0.70183,     0.70353,     0.70402,     0.70573,      0.7065,     0.70771,      0.7079,      0.7081,     0.70994,\n",
       "            0.71185,     0.71358,     0.71492,     0.71498,      0.7148,     0.71695,     0.71682,     0.71638,     0.71681,     0.71756,     0.71891,     0.72012,     0.72125,      0.7217,     0.72201,     0.72243,     0.72305,      0.7239,     0.72357,     0.72392,     0.72455,     0.72517,     0.72626,\n",
       "            0.72658,     0.72669,      0.7285,     0.72827,     0.72814,     0.72957,     0.73084,      0.7323,     0.73316,     0.73348,     0.73414,     0.73454,     0.73495,     0.73664,     0.73848,     0.73869,     0.73952,     0.73885,     0.73861,     0.73926,     0.73984,     0.74018,     0.74033,\n",
       "            0.74008,     0.74047,     0.74022,     0.73998,     0.74038,      0.7406,     0.74327,     0.74396,     0.74465,     0.74641,     0.74907,     0.74895,     0.74873,      0.7499,     0.75061,     0.75178,     0.75296,     0.75481,     0.75487,     0.75508,     0.75497,     0.75667,     0.75773,\n",
       "            0.75917,     0.75995,     0.75972,     0.75903,     0.76098,     0.76122,     0.76171,     0.76208,     0.76282,      0.7643,     0.76505,     0.76558,     0.76759,     0.76768,     0.76993,     0.77273,     0.77547,      0.7761,     0.77753,     0.77843,       0.779,     0.77912,     0.77916,\n",
       "            0.77996,     0.77978,     0.78012,     0.78026,     0.78107,     0.78101,     0.78056,     0.78272,      0.7825,     0.78258,     0.78318,     0.78481,     0.78541,     0.78625,       0.787,     0.78655,     0.78752,     0.78745,     0.78906,     0.78927,     0.78948,     0.78991,     0.79007,\n",
       "            0.78984,     0.79057,     0.79121,     0.79168,     0.79078,     0.79069,     0.79112,     0.79229,     0.79285,     0.79244,     0.79232,     0.79302,     0.79451,     0.79473,     0.79539,     0.79607,     0.79652,     0.79805,     0.79894,     0.80049,     0.80117,     0.80296,     0.80453,\n",
       "            0.80493,     0.80539,     0.80616,     0.80626,     0.80778,     0.80924,      0.8097,     0.81017,     0.81063,     0.80987,     0.81056,     0.81118,     0.81282,     0.81376,     0.81448,     0.81455,     0.81399,     0.81556,     0.81505,     0.81564,     0.81497,      0.8155,     0.81817,\n",
       "            0.81962,      0.8195,     0.82035,     0.82085,     0.82129,     0.82283,     0.82405,     0.82562,     0.82612,     0.82651,      0.8264,     0.82624,     0.82561,     0.82607,     0.82638,     0.82717,     0.82695,     0.82674,     0.82732,     0.82877,     0.82943,     0.82995,     0.83189,\n",
       "            0.83255,     0.83294,     0.83347,     0.83315,     0.83718,     0.83906,     0.83866,     0.83991,     0.84035,        0.84,     0.83989,     0.84125,     0.84162,     0.84252,     0.84363,     0.84436,     0.84492,     0.84492,     0.84529,     0.84584,     0.84688,     0.84886,     0.85068,\n",
       "            0.85028,     0.85128,     0.85118,     0.85225,     0.85302,     0.85356,     0.85317,     0.85304,     0.85287,     0.85247,     0.85187,     0.85127,     0.85107,     0.85086,     0.84985,     0.84964,     0.84985,     0.85044,     0.85152,     0.85163,     0.85155,     0.85379,     0.85419,\n",
       "            0.85459,     0.85497,     0.85618,     0.85743,     0.85723,     0.85663,     0.85768,     0.85758,     0.85934,     0.86092,     0.86193,     0.86153,     0.86171,     0.86235,     0.86221,     0.86284,     0.86493,     0.86566,     0.86553,     0.86534,     0.86629,     0.86619,      0.8656,\n",
       "            0.86546,     0.86665,     0.86646,     0.86618,     0.86709,     0.86699,      0.8667,      0.8666,     0.86603,     0.86824,     0.86967,     0.87205,     0.87291,     0.87281,     0.87327,     0.87341,     0.87275,     0.87382,     0.87367,     0.87328,     0.87384,     0.87371,     0.87463,\n",
       "            0.87585,     0.88076,     0.88238,     0.88229,     0.88213,     0.88128,     0.88151,     0.88249,     0.88192,     0.88166,     0.88266,     0.88372,      0.8837,     0.88351,     0.88318,     0.88363,     0.88408,      0.8835,     0.88289,     0.88363,     0.88428,     0.88393,     0.88513,\n",
       "            0.88467,     0.88448,     0.88428,      0.8855,      0.8854,     0.88529,     0.88516,     0.88497,     0.88437,     0.88398,     0.88612,     0.88745,     0.88686,     0.88616,     0.88606,     0.88555,     0.88492,     0.88421,     0.88558,     0.88537,     0.88679,     0.88764,     0.88738,\n",
       "            0.89016,     0.88995,     0.89125,     0.89232,     0.89358,      0.8933,     0.89455,     0.89435,     0.89673,     0.89876,      0.8984,     0.89988,     0.90152,     0.90091,     0.90082,      0.9007,     0.90231,     0.90347,     0.90283,     0.90443,     0.90592,      0.9072,     0.90676,\n",
       "            0.90634,     0.90596,     0.90549,     0.90536,     0.90477,     0.90417,     0.90387,     0.90346,     0.90691,     0.90704,     0.90761,     0.90936,     0.91045,     0.91002,      0.9096,     0.90905,     0.91067,     0.91252,     0.91239,     0.91638,     0.91907,     0.91938,     0.92107,\n",
       "            0.92321,     0.92308,     0.92464,     0.92411,     0.92403,     0.92618,     0.92933,     0.93002,     0.93169,     0.93176,     0.93332,     0.93529,     0.93509,     0.93488,      0.9343,     0.93323,      0.9348,     0.93712,     0.93867,     0.93868,     0.94073,      0.9431,     0.94414,\n",
       "            0.94506,     0.94475,     0.94436,     0.94662,     0.94645,      0.9488,     0.94868,     0.94832,     0.94791,     0.94779,     0.94764,     0.94682,     0.94646,     0.94634,       0.949,     0.95394,     0.95359,     0.95284,     0.95225,     0.95182,     0.95146,     0.95081,     0.95356,\n",
       "            0.95284,     0.95261,     0.95185,     0.95165,     0.95218,     0.95427,     0.95366,     0.95311,     0.95281,     0.95207,     0.95174,      0.9506,     0.95005,     0.95314,     0.95241,     0.95175,     0.95162,     0.95464,     0.95798,     0.95744,     0.95732,     0.95667,     0.96007,\n",
       "            0.96342,      0.9631,     0.96258,     0.96164,      0.9614,     0.96068,     0.96902,     0.96848,     0.96797,     0.96768,     0.96707,     0.96659,      0.9664,     0.97681,     0.97661,     0.98171,     0.98147,     0.98448,     0.98674,     0.98661,     0.98637,     0.98568,     0.98538,\n",
       "            0.98491,     0.98456,     0.98367,     0.99141,     0.99124,      0.9911,     0.99076,     0.99044,     0.99031,     0.98985,      0.9898,     0.98936,     0.98901,     0.98836,     0.98778,     0.98731,      0.9868,     0.98627,     0.98604,           1,           1,           1,           1,\n",
       "                  1,           1,           1,           1,           1,           1,           1,           1,           1,           1,           1,           1,           1,           1,           1,           1,           1,           1,           1,           1,           1,           1,           1,\n",
       "                  1,           1,           1,           1,           1,           1,           1,           1,           1,           1,           1,           1,           1,           1,           1,           1,           1,           1,           1,           1,           1,           1,           1,\n",
       "                  1,           1,           1,           1,           1,           1,           1,           1,           1,           1,           1,           1,           1,           1,           1,           1,           1,           1,           1,           1,           1,           1,           1,\n",
       "                  1,           1,           1,           1,           1,           1,           1,           1,           1,           1,           1,           1,           1,           1,           1,           1,           1,           1,           1,           1,           1,           1,           1,\n",
       "                  1,           1,           1,           1,           1,           1,           1,           1,           1,           1,           1,           1,           1,           1,           1,           1,           1,           1,           1,           1,           1,           1,           1,\n",
       "                  1,           1,           1,           1,           1,           1,           1,           1,           1,           1,           1,           1,           1,           1,           1,           1,           1,           1,           1,           1,           1,           1,           1,\n",
       "                  1,           1,           1,           1,           1,           1,           1,           1,           1,           1,           1]]), 'Confidence', 'Precision'], [array([          0,    0.001001,    0.002002,    0.003003,    0.004004,    0.005005,    0.006006,    0.007007,    0.008008,    0.009009,     0.01001,    0.011011,    0.012012,    0.013013,    0.014014,    0.015015,    0.016016,    0.017017,    0.018018,    0.019019,     0.02002,    0.021021,    0.022022,    0.023023,\n",
       "          0.024024,    0.025025,    0.026026,    0.027027,    0.028028,    0.029029,     0.03003,    0.031031,    0.032032,    0.033033,    0.034034,    0.035035,    0.036036,    0.037037,    0.038038,    0.039039,     0.04004,    0.041041,    0.042042,    0.043043,    0.044044,    0.045045,    0.046046,    0.047047,\n",
       "          0.048048,    0.049049,     0.05005,    0.051051,    0.052052,    0.053053,    0.054054,    0.055055,    0.056056,    0.057057,    0.058058,    0.059059,     0.06006,    0.061061,    0.062062,    0.063063,    0.064064,    0.065065,    0.066066,    0.067067,    0.068068,    0.069069,     0.07007,    0.071071,\n",
       "          0.072072,    0.073073,    0.074074,    0.075075,    0.076076,    0.077077,    0.078078,    0.079079,     0.08008,    0.081081,    0.082082,    0.083083,    0.084084,    0.085085,    0.086086,    0.087087,    0.088088,    0.089089,     0.09009,    0.091091,    0.092092,    0.093093,    0.094094,    0.095095,\n",
       "          0.096096,    0.097097,    0.098098,    0.099099,      0.1001,      0.1011,      0.1021,      0.1031,      0.1041,     0.10511,     0.10611,     0.10711,     0.10811,     0.10911,     0.11011,     0.11111,     0.11211,     0.11311,     0.11411,     0.11512,     0.11612,     0.11712,     0.11812,     0.11912,\n",
       "           0.12012,     0.12112,     0.12212,     0.12312,     0.12412,     0.12513,     0.12613,     0.12713,     0.12813,     0.12913,     0.13013,     0.13113,     0.13213,     0.13313,     0.13413,     0.13514,     0.13614,     0.13714,     0.13814,     0.13914,     0.14014,     0.14114,     0.14214,     0.14314,\n",
       "           0.14414,     0.14515,     0.14615,     0.14715,     0.14815,     0.14915,     0.15015,     0.15115,     0.15215,     0.15315,     0.15415,     0.15516,     0.15616,     0.15716,     0.15816,     0.15916,     0.16016,     0.16116,     0.16216,     0.16316,     0.16416,     0.16517,     0.16617,     0.16717,\n",
       "           0.16817,     0.16917,     0.17017,     0.17117,     0.17217,     0.17317,     0.17417,     0.17518,     0.17618,     0.17718,     0.17818,     0.17918,     0.18018,     0.18118,     0.18218,     0.18318,     0.18418,     0.18519,     0.18619,     0.18719,     0.18819,     0.18919,     0.19019,     0.19119,\n",
       "           0.19219,     0.19319,     0.19419,      0.1952,      0.1962,      0.1972,      0.1982,      0.1992,      0.2002,      0.2012,      0.2022,      0.2032,      0.2042,     0.20521,     0.20621,     0.20721,     0.20821,     0.20921,     0.21021,     0.21121,     0.21221,     0.21321,     0.21421,     0.21522,\n",
       "           0.21622,     0.21722,     0.21822,     0.21922,     0.22022,     0.22122,     0.22222,     0.22322,     0.22422,     0.22523,     0.22623,     0.22723,     0.22823,     0.22923,     0.23023,     0.23123,     0.23223,     0.23323,     0.23423,     0.23524,     0.23624,     0.23724,     0.23824,     0.23924,\n",
       "           0.24024,     0.24124,     0.24224,     0.24324,     0.24424,     0.24525,     0.24625,     0.24725,     0.24825,     0.24925,     0.25025,     0.25125,     0.25225,     0.25325,     0.25425,     0.25526,     0.25626,     0.25726,     0.25826,     0.25926,     0.26026,     0.26126,     0.26226,     0.26326,\n",
       "           0.26426,     0.26527,     0.26627,     0.26727,     0.26827,     0.26927,     0.27027,     0.27127,     0.27227,     0.27327,     0.27427,     0.27528,     0.27628,     0.27728,     0.27828,     0.27928,     0.28028,     0.28128,     0.28228,     0.28328,     0.28428,     0.28529,     0.28629,     0.28729,\n",
       "           0.28829,     0.28929,     0.29029,     0.29129,     0.29229,     0.29329,     0.29429,      0.2953,      0.2963,      0.2973,      0.2983,      0.2993,      0.3003,      0.3013,      0.3023,      0.3033,      0.3043,     0.30531,     0.30631,     0.30731,     0.30831,     0.30931,     0.31031,     0.31131,\n",
       "           0.31231,     0.31331,     0.31431,     0.31532,     0.31632,     0.31732,     0.31832,     0.31932,     0.32032,     0.32132,     0.32232,     0.32332,     0.32432,     0.32533,     0.32633,     0.32733,     0.32833,     0.32933,     0.33033,     0.33133,     0.33233,     0.33333,     0.33433,     0.33534,\n",
       "           0.33634,     0.33734,     0.33834,     0.33934,     0.34034,     0.34134,     0.34234,     0.34334,     0.34434,     0.34535,     0.34635,     0.34735,     0.34835,     0.34935,     0.35035,     0.35135,     0.35235,     0.35335,     0.35435,     0.35536,     0.35636,     0.35736,     0.35836,     0.35936,\n",
       "           0.36036,     0.36136,     0.36236,     0.36336,     0.36436,     0.36537,     0.36637,     0.36737,     0.36837,     0.36937,     0.37037,     0.37137,     0.37237,     0.37337,     0.37437,     0.37538,     0.37638,     0.37738,     0.37838,     0.37938,     0.38038,     0.38138,     0.38238,     0.38338,\n",
       "           0.38438,     0.38539,     0.38639,     0.38739,     0.38839,     0.38939,     0.39039,     0.39139,     0.39239,     0.39339,     0.39439,      0.3954,      0.3964,      0.3974,      0.3984,      0.3994,      0.4004,      0.4014,      0.4024,      0.4034,      0.4044,     0.40541,     0.40641,     0.40741,\n",
       "           0.40841,     0.40941,     0.41041,     0.41141,     0.41241,     0.41341,     0.41441,     0.41542,     0.41642,     0.41742,     0.41842,     0.41942,     0.42042,     0.42142,     0.42242,     0.42342,     0.42442,     0.42543,     0.42643,     0.42743,     0.42843,     0.42943,     0.43043,     0.43143,\n",
       "           0.43243,     0.43343,     0.43443,     0.43544,     0.43644,     0.43744,     0.43844,     0.43944,     0.44044,     0.44144,     0.44244,     0.44344,     0.44444,     0.44545,     0.44645,     0.44745,     0.44845,     0.44945,     0.45045,     0.45145,     0.45245,     0.45345,     0.45445,     0.45546,\n",
       "           0.45646,     0.45746,     0.45846,     0.45946,     0.46046,     0.46146,     0.46246,     0.46346,     0.46446,     0.46547,     0.46647,     0.46747,     0.46847,     0.46947,     0.47047,     0.47147,     0.47247,     0.47347,     0.47447,     0.47548,     0.47648,     0.47748,     0.47848,     0.47948,\n",
       "           0.48048,     0.48148,     0.48248,     0.48348,     0.48448,     0.48549,     0.48649,     0.48749,     0.48849,     0.48949,     0.49049,     0.49149,     0.49249,     0.49349,     0.49449,      0.4955,      0.4965,      0.4975,      0.4985,      0.4995,      0.5005,      0.5015,      0.5025,      0.5035,\n",
       "            0.5045,     0.50551,     0.50651,     0.50751,     0.50851,     0.50951,     0.51051,     0.51151,     0.51251,     0.51351,     0.51451,     0.51552,     0.51652,     0.51752,     0.51852,     0.51952,     0.52052,     0.52152,     0.52252,     0.52352,     0.52452,     0.52553,     0.52653,     0.52753,\n",
       "           0.52853,     0.52953,     0.53053,     0.53153,     0.53253,     0.53353,     0.53453,     0.53554,     0.53654,     0.53754,     0.53854,     0.53954,     0.54054,     0.54154,     0.54254,     0.54354,     0.54454,     0.54555,     0.54655,     0.54755,     0.54855,     0.54955,     0.55055,     0.55155,\n",
       "           0.55255,     0.55355,     0.55455,     0.55556,     0.55656,     0.55756,     0.55856,     0.55956,     0.56056,     0.56156,     0.56256,     0.56356,     0.56456,     0.56557,     0.56657,     0.56757,     0.56857,     0.56957,     0.57057,     0.57157,     0.57257,     0.57357,     0.57457,     0.57558,\n",
       "           0.57658,     0.57758,     0.57858,     0.57958,     0.58058,     0.58158,     0.58258,     0.58358,     0.58458,     0.58559,     0.58659,     0.58759,     0.58859,     0.58959,     0.59059,     0.59159,     0.59259,     0.59359,     0.59459,      0.5956,      0.5966,      0.5976,      0.5986,      0.5996,\n",
       "            0.6006,      0.6016,      0.6026,      0.6036,      0.6046,     0.60561,     0.60661,     0.60761,     0.60861,     0.60961,     0.61061,     0.61161,     0.61261,     0.61361,     0.61461,     0.61562,     0.61662,     0.61762,     0.61862,     0.61962,     0.62062,     0.62162,     0.62262,     0.62362,\n",
       "           0.62462,     0.62563,     0.62663,     0.62763,     0.62863,     0.62963,     0.63063,     0.63163,     0.63263,     0.63363,     0.63463,     0.63564,     0.63664,     0.63764,     0.63864,     0.63964,     0.64064,     0.64164,     0.64264,     0.64364,     0.64464,     0.64565,     0.64665,     0.64765,\n",
       "           0.64865,     0.64965,     0.65065,     0.65165,     0.65265,     0.65365,     0.65465,     0.65566,     0.65666,     0.65766,     0.65866,     0.65966,     0.66066,     0.66166,     0.66266,     0.66366,     0.66466,     0.66567,     0.66667,     0.66767,     0.66867,     0.66967,     0.67067,     0.67167,\n",
       "           0.67267,     0.67367,     0.67467,     0.67568,     0.67668,     0.67768,     0.67868,     0.67968,     0.68068,     0.68168,     0.68268,     0.68368,     0.68468,     0.68569,     0.68669,     0.68769,     0.68869,     0.68969,     0.69069,     0.69169,     0.69269,     0.69369,     0.69469,      0.6957,\n",
       "            0.6967,      0.6977,      0.6987,      0.6997,      0.7007,      0.7017,      0.7027,      0.7037,      0.7047,     0.70571,     0.70671,     0.70771,     0.70871,     0.70971,     0.71071,     0.71171,     0.71271,     0.71371,     0.71471,     0.71572,     0.71672,     0.71772,     0.71872,     0.71972,\n",
       "           0.72072,     0.72172,     0.72272,     0.72372,     0.72472,     0.72573,     0.72673,     0.72773,     0.72873,     0.72973,     0.73073,     0.73173,     0.73273,     0.73373,     0.73473,     0.73574,     0.73674,     0.73774,     0.73874,     0.73974,     0.74074,     0.74174,     0.74274,     0.74374,\n",
       "           0.74474,     0.74575,     0.74675,     0.74775,     0.74875,     0.74975,     0.75075,     0.75175,     0.75275,     0.75375,     0.75475,     0.75576,     0.75676,     0.75776,     0.75876,     0.75976,     0.76076,     0.76176,     0.76276,     0.76376,     0.76476,     0.76577,     0.76677,     0.76777,\n",
       "           0.76877,     0.76977,     0.77077,     0.77177,     0.77277,     0.77377,     0.77477,     0.77578,     0.77678,     0.77778,     0.77878,     0.77978,     0.78078,     0.78178,     0.78278,     0.78378,     0.78478,     0.78579,     0.78679,     0.78779,     0.78879,     0.78979,     0.79079,     0.79179,\n",
       "           0.79279,     0.79379,     0.79479,      0.7958,      0.7968,      0.7978,      0.7988,      0.7998,      0.8008,      0.8018,      0.8028,      0.8038,      0.8048,     0.80581,     0.80681,     0.80781,     0.80881,     0.80981,     0.81081,     0.81181,     0.81281,     0.81381,     0.81481,     0.81582,\n",
       "           0.81682,     0.81782,     0.81882,     0.81982,     0.82082,     0.82182,     0.82282,     0.82382,     0.82482,     0.82583,     0.82683,     0.82783,     0.82883,     0.82983,     0.83083,     0.83183,     0.83283,     0.83383,     0.83483,     0.83584,     0.83684,     0.83784,     0.83884,     0.83984,\n",
       "           0.84084,     0.84184,     0.84284,     0.84384,     0.84484,     0.84585,     0.84685,     0.84785,     0.84885,     0.84985,     0.85085,     0.85185,     0.85285,     0.85385,     0.85485,     0.85586,     0.85686,     0.85786,     0.85886,     0.85986,     0.86086,     0.86186,     0.86286,     0.86386,\n",
       "           0.86486,     0.86587,     0.86687,     0.86787,     0.86887,     0.86987,     0.87087,     0.87187,     0.87287,     0.87387,     0.87487,     0.87588,     0.87688,     0.87788,     0.87888,     0.87988,     0.88088,     0.88188,     0.88288,     0.88388,     0.88488,     0.88589,     0.88689,     0.88789,\n",
       "           0.88889,     0.88989,     0.89089,     0.89189,     0.89289,     0.89389,     0.89489,      0.8959,      0.8969,      0.8979,      0.8989,      0.8999,      0.9009,      0.9019,      0.9029,      0.9039,      0.9049,     0.90591,     0.90691,     0.90791,     0.90891,     0.90991,     0.91091,     0.91191,\n",
       "           0.91291,     0.91391,     0.91491,     0.91592,     0.91692,     0.91792,     0.91892,     0.91992,     0.92092,     0.92192,     0.92292,     0.92392,     0.92492,     0.92593,     0.92693,     0.92793,     0.92893,     0.92993,     0.93093,     0.93193,     0.93293,     0.93393,     0.93493,     0.93594,\n",
       "           0.93694,     0.93794,     0.93894,     0.93994,     0.94094,     0.94194,     0.94294,     0.94394,     0.94494,     0.94595,     0.94695,     0.94795,     0.94895,     0.94995,     0.95095,     0.95195,     0.95295,     0.95395,     0.95495,     0.95596,     0.95696,     0.95796,     0.95896,     0.95996,\n",
       "           0.96096,     0.96196,     0.96296,     0.96396,     0.96496,     0.96597,     0.96697,     0.96797,     0.96897,     0.96997,     0.97097,     0.97197,     0.97297,     0.97397,     0.97497,     0.97598,     0.97698,     0.97798,     0.97898,     0.97998,     0.98098,     0.98198,     0.98298,     0.98398,\n",
       "           0.98498,     0.98599,     0.98699,     0.98799,     0.98899,     0.98999,     0.99099,     0.99199,     0.99299,     0.99399,     0.99499,       0.996,       0.997,       0.998,       0.999,           1]), array([[    0.94444,     0.94444,     0.93661,     0.93162,     0.92735,     0.92664,     0.92308,     0.91952,     0.91311,     0.91239,     0.90883,     0.90527,     0.90313,     0.90028,     0.89886,      0.8953,     0.89316,     0.89174,     0.89031,     0.88746,     0.88604,     0.88462,     0.88105,\n",
       "            0.87821,     0.87607,     0.87464,     0.87322,     0.87179,     0.87037,     0.86895,     0.86752,     0.86538,     0.86538,     0.86182,     0.85969,     0.85755,     0.85684,     0.85613,     0.85613,     0.85541,     0.85541,      0.8547,     0.85328,     0.85185,     0.85043,     0.85043,\n",
       "            0.84972,     0.84758,     0.84615,     0.84473,      0.8433,     0.84188,     0.84117,     0.84046,     0.84046,     0.83832,     0.83761,     0.83761,     0.83547,     0.83405,     0.83333,     0.83262,      0.8312,     0.82835,     0.82764,     0.82692,     0.82692,     0.82692,     0.82692,\n",
       "            0.82621,     0.82479,     0.82336,     0.82336,     0.82265,     0.82123,     0.81909,     0.81838,     0.81624,     0.81553,     0.81481,      0.8141,     0.81339,     0.81268,     0.81268,     0.81197,     0.80983,     0.80912,      0.8084,      0.8074,     0.80627,     0.80556,     0.80556,\n",
       "            0.80556,     0.80413,     0.80374,     0.80271,     0.80271,     0.80271,     0.80128,     0.80128,     0.80128,     0.80128,     0.79847,     0.79843,     0.79843,     0.79558,     0.79416,     0.79202,     0.79202,      0.7906,     0.78989,     0.78989,     0.78846,     0.78846,     0.78775,\n",
       "            0.78632,     0.78561,     0.78561,     0.78561,     0.78561,      0.7849,     0.78419,     0.78348,     0.78276,     0.78237,     0.78134,     0.78134,     0.77934,      0.7792,      0.7792,     0.77849,     0.77707,     0.77493,     0.77279,     0.77279,     0.77279,     0.77137,     0.77066,\n",
       "            0.77066,     0.76994,     0.76852,     0.76638,     0.76638,     0.76567,     0.76499,     0.76496,     0.76496,     0.76425,     0.76353,     0.76282,     0.76211,     0.76068,     0.76048,     0.75926,     0.75783,     0.75641,     0.75641,      0.7557,      0.7557,     0.75502,     0.75499,\n",
       "            0.75427,     0.75427,     0.75398,     0.75214,     0.75034,     0.74996,     0.74929,     0.74858,     0.74693,     0.74644,     0.74626,     0.74573,      0.7443,      0.7443,     0.74359,     0.74217,     0.74153,     0.74145,     0.74145,     0.74074,     0.74003,     0.73932,     0.73932,\n",
       "            0.73932,     0.73789,     0.73544,     0.73504,     0.73504,     0.73362,     0.73362,     0.73362,     0.73362,     0.73286,     0.73228,     0.73219,     0.73219,      0.7317,     0.73077,     0.73077,     0.73006,     0.72934,     0.72792,     0.72436,     0.72436,     0.72436,     0.72436,\n",
       "            0.72378,     0.72365,     0.72365,     0.72293,     0.72222,     0.72009,     0.72009,     0.71866,     0.71866,     0.71795,     0.71724,     0.71581,     0.71581,     0.71581,     0.71521,     0.71439,     0.71439,     0.71296,     0.71225,     0.71154,     0.71105,     0.70869,     0.70869,\n",
       "            0.70725,     0.70623,     0.70448,     0.70403,      0.7037,      0.7037,     0.70228,     0.70085,     0.70023,     0.70014,     0.69658,     0.69587,     0.69587,     0.69587,     0.69587,     0.69516,     0.69516,     0.69516,     0.69373,     0.69373,     0.69373,     0.69347,      0.6916,\n",
       "             0.6916,     0.69088,     0.69088,     0.69017,     0.68956,     0.68946,     0.68946,     0.68946,     0.68946,     0.68875,     0.68875,     0.68875,     0.68695,     0.68519,     0.68519,     0.68519,     0.68452,     0.68376,     0.68376,     0.68376,     0.68376,     0.68325,     0.68305,\n",
       "            0.68305,     0.68114,     0.68041,     0.67949,     0.67877,     0.67822,     0.67735,     0.67735,     0.67549,     0.67494,      0.6745,      0.6745,     0.67407,     0.67236,     0.67165,     0.67094,     0.67041,     0.67023,     0.67013,     0.66952,     0.66952,     0.66809,     0.66738,\n",
       "            0.66645,     0.66595,     0.66595,     0.66595,     0.66382,     0.66214,     0.66097,     0.66097,     0.66026,     0.65954,     0.65954,     0.65882,     0.65558,      0.6538,     0.65313,     0.65288,     0.65242,     0.65242,     0.65242,     0.65242,     0.65171,     0.65099,     0.65028,\n",
       "            0.64975,     0.64957,     0.64886,     0.64886,     0.64886,     0.64886,     0.64785,     0.64674,     0.64672,     0.64672,     0.64415,     0.64387,     0.64387,     0.64387,     0.64387,     0.64361,     0.64276,     0.64245,      0.6396,      0.6396,     0.63818,     0.63746,     0.63718,\n",
       "            0.63675,     0.63646,     0.63471,     0.63289,     0.63248,     0.63248,     0.63248,     0.63245,     0.63204,      0.6308,     0.62998,     0.62916,     0.62821,     0.62541,     0.62536,     0.62536,     0.62515,     0.62464,     0.62464,     0.62393,     0.62393,     0.62393,     0.62251,\n",
       "            0.62111,     0.62108,     0.62037,        0.62,     0.61944,     0.61881,     0.61839,     0.61707,     0.61538,     0.61538,     0.61396,     0.61396,     0.61182,     0.61111,     0.61111,     0.61111,     0.61111,     0.60969,     0.60779,     0.60755,     0.60755,     0.60703,      0.6047,\n",
       "             0.6047,     0.60399,     0.60393,     0.60323,     0.60281,     0.60256,     0.60256,     0.60114,     0.60079,     0.60043,     0.59987,     0.59914,     0.59841,     0.59768,     0.59758,     0.59615,     0.59615,     0.59244,     0.59171,     0.59117,     0.59117,     0.59117,     0.59093,\n",
       "            0.58974,     0.58974,     0.58856,     0.58783,     0.58761,     0.58618,     0.58564,     0.58405,     0.58405,     0.58262,     0.58258,     0.58222,      0.5812,     0.58048,     0.58048,     0.57977,     0.57906,     0.57886,     0.57835,     0.57752,     0.57715,     0.57692,      0.5755,\n",
       "             0.5755,     0.57499,     0.57426,     0.57211,     0.57194,     0.56994,     0.56921,     0.56838,     0.56838,     0.56838,     0.56838,     0.56766,     0.56695,     0.56481,     0.56481,      0.5641,     0.56333,     0.56044,     0.55912,     0.55698,     0.55627,     0.55523,     0.55413,\n",
       "            0.55413,     0.55232,     0.55088,     0.54986,     0.54986,     0.54869,     0.54725,     0.54652,     0.54579,     0.54416,     0.54345,     0.54289,     0.54274,     0.54274,     0.54212,     0.54068,     0.53852,     0.53566,     0.53561,      0.5349,     0.53419,     0.53419,     0.53343,\n",
       "             0.5327,     0.53205,     0.53134,     0.53051,     0.52764,     0.52707,     0.52707,     0.52635,     0.52615,     0.52482,     0.52445,     0.52396,     0.52323,     0.52279,     0.52208,     0.52208,     0.52208,     0.52208,     0.52208,     0.52137,     0.52066,     0.52066,     0.51994,\n",
       "            0.51923,     0.51923,     0.51923,     0.51871,     0.51852,     0.51852,     0.51852,     0.51852,     0.51852,     0.51575,     0.51502,     0.51425,     0.51353,     0.51353,     0.51281,     0.50994,     0.50783,     0.50706,     0.50499,     0.50418,     0.50142,     0.50058,     0.49929,\n",
       "            0.49841,     0.49715,     0.49715,     0.49715,     0.49644,     0.49618,     0.49573,     0.49501,     0.49501,       0.492,     0.49164,     0.49109,     0.48893,      0.4886,     0.48818,     0.48745,     0.48672,     0.48599,     0.48455,     0.48362,     0.48362,     0.48362,     0.48362,\n",
       "            0.48161,     0.48148,     0.48148,     0.48014,     0.48006,     0.47903,     0.47759,      0.4765,     0.47613,     0.47488,     0.47451,      0.4718,      0.4708,     0.47009,     0.47009,     0.47009,     0.47009,     0.46956,     0.46937,     0.46937,     0.46879,     0.46866,     0.46662,\n",
       "            0.46518,     0.46477,     0.46441,     0.46439,     0.46297,     0.46082,     0.45938,      0.4589,     0.45827,     0.45683,     0.45467,     0.45252,     0.45179,     0.45106,     0.44748,     0.44675,     0.44587,     0.44587,     0.44587,     0.44562,     0.44533,     0.44444,     0.44444,\n",
       "            0.44444,     0.44302,     0.44302,     0.44121,     0.44048,     0.43833,     0.43782,     0.43745,     0.43661,     0.43647,     0.43574,      0.4343,     0.43376,     0.43284,     0.43162,     0.43162,     0.43162,     0.43144,     0.43095,     0.43024,     0.42914,     0.42878,     0.42663,\n",
       "            0.42593,     0.42588,     0.42515,     0.42308,     0.42285,     0.42248,     0.42141,     0.42104,     0.41899,      0.4188,     0.41824,     0.41595,     0.41583,     0.41547,     0.41524,     0.41281,     0.41034,     0.40954,     0.40884,      0.4074,     0.40453,     0.40385,     0.40385,\n",
       "            0.40198,     0.40171,     0.40076,     0.40039,     0.39977,     0.39655,     0.39601,      0.3958,     0.39365,     0.39268,     0.39112,     0.39031,     0.38966,     0.38893,     0.38772,     0.38675,     0.38567,     0.38352,     0.38105,     0.38105,     0.38097,     0.37892,     0.37868,\n",
       "              0.377,     0.37627,     0.37554,     0.37455,     0.37418,     0.37378,     0.37329,      0.3726,     0.37045,     0.36901,     0.36578,     0.36505,      0.3629,     0.36039,     0.36003,     0.35821,     0.35599,     0.35355,     0.35282,     0.35209,     0.35043,     0.34885,     0.34795,\n",
       "            0.34632,     0.34559,     0.34544,     0.34235,     0.34091,      0.3399,     0.33838,     0.33765,     0.33618,     0.33512,      0.3338,     0.33262,     0.33252,     0.33027,     0.32991,     0.32947,     0.32894,     0.32665,     0.32428,     0.32355,     0.32051,      0.3203,     0.31864,\n",
       "            0.31706,     0.31562,     0.31392,     0.31343,     0.31129,     0.30914,     0.30805,     0.30661,      0.3053,     0.30484,     0.30086,     0.30013,     0.29691,     0.29534,     0.29383,     0.29187,     0.29043,     0.28976,     0.28927,     0.28632,     0.28561,     0.28428,     0.28348,\n",
       "            0.28256,     0.28208,     0.27991,     0.27754,     0.27707,       0.277,     0.27564,     0.27451,       0.272,     0.27137,     0.27137,     0.26767,     0.26678,     0.26585,     0.26334,     0.25884,     0.25712,     0.25474,     0.25356,     0.25079,     0.24869,     0.24858,     0.24715,\n",
       "            0.24502,     0.24356,     0.24178,     0.23998,     0.23918,      0.2376,     0.23697,     0.23528,     0.23329,     0.23275,     0.23202,     0.22825,     0.22664,     0.22611,     0.22529,     0.22125,     0.21952,     0.21587,     0.21304,     0.21108,     0.20941,     0.20652,     0.20474,\n",
       "            0.20147,     0.20043,     0.19712,     0.19628,     0.19373,     0.19324,     0.19057,     0.18822,     0.18694,     0.18391,     0.18259,     0.17817,     0.17611,     0.17386,     0.17105,     0.16859,     0.16811,     0.16489,     0.16236,     0.16024,     0.15975,     0.15727,     0.15412,\n",
       "            0.15008,     0.14874,     0.14658,     0.14285,     0.14192,     0.13922,     0.13369,     0.13131,     0.12914,     0.12794,     0.12551,     0.12363,      0.1229,     0.12179,     0.11895,     0.11466,     0.11318,     0.10969,     0.10599,     0.10497,     0.10307,    0.098047,    0.096014,\n",
       "            0.09299,    0.090818,    0.085797,      0.0822,    0.080612,    0.079279,    0.076395,    0.073792,    0.072762,    0.069464,    0.069099,    0.066245,    0.064073,    0.060476,    0.057591,    0.055419,    0.053246,    0.051178,    0.050326,    0.047441,    0.045242,    0.044696,    0.043061,\n",
       "           0.042168,    0.040013,    0.036078,    0.035084,    0.032444,    0.032079,    0.029279,    0.027442,    0.025646,    0.022049,    0.019198,    0.018417,    0.017523,    0.016921,    0.014773,    0.014481,    0.014152,    0.013665,    0.013267,    0.012902,    0.012537,    0.012172,    0.011907,\n",
       "           0.011664,     0.01142,   0.0091591,   0.0089157,   0.0086724,     0.00837,    0.008005,    0.007575,   0.0070198,   0.0049166,     0.00423,    0.003865,   0.0034386,   0.0028139,   0.0026314,   0.0024489,   0.0022663,   0.0020897,   0.0019275,   0.0017652,    0.001603,   0.0014407,   0.0013588,\n",
       "          0.0012858,   0.0012128,   0.0011398,   0.0010668,  0.00099376,  0.00092076,  0.00084775,  0.00077474,           0,           0,           0,           0,           0,           0,           0,           0,           0,           0,           0,           0,           0,           0,           0,\n",
       "                  0,           0,           0,           0,           0,           0,           0,           0,           0,           0,           0,           0,           0,           0,           0,           0,           0,           0,           0,           0,           0,           0,           0,\n",
       "                  0,           0,           0,           0,           0,           0,           0,           0,           0,           0,           0,           0,           0,           0,           0,           0,           0,           0,           0,           0,           0,           0,           0,\n",
       "                  0,           0,           0,           0,           0,           0,           0,           0,           0,           0,           0,           0,           0,           0,           0,           0,           0,           0,           0,           0,           0,           0,           0,\n",
       "                  0,           0,           0,           0,           0,           0,           0,           0,           0,           0,           0]]), 'Confidence', 'Recall']]\n",
       "fitness: 0.4483824013779583\n",
       "keys: ['metrics/precision(B)', 'metrics/recall(B)', 'metrics/mAP50(B)', 'metrics/mAP50-95(B)']\n",
       "maps: array([    0.42156])\n",
       "names: {0: 'billboard'}\n",
       "plot: True\n",
       "results_dict: {'metrics/precision(B)': 0.7007378659833821, 'metrics/recall(B)': 0.6254145883775514, 'metrics/mAP50(B)': 0.6897904112757353, 'metrics/mAP50-95(B)': 0.42155928916709423, 'fitness': 0.4483824013779583}\n",
       "save_dir: PosixPath('runs/detect/train')\n",
       "speed: {'preprocess': 0.19942498674579695, 'inference': 2.2312725291532627, 'loss': 0.0005745420268937653, 'postprocess': 3.15855577880261}\n",
       "task: 'detect'"
      ]
     },
     "execution_count": 5,
     "metadata": {},
     "output_type": "execute_result"
    }
   ],
   "source": [
    "model.train(data = '/kaggle/input/billboard/datasets/dataset.yaml',epochs = 111,patience=11, imgsz= 640, save_dir = '/kaggle/input/billboard/datasets/')"
   ]
  },
  {
   "cell_type": "code",
   "execution_count": null,
   "id": "7165647d",
   "metadata": {
    "papermill": {
     "duration": 2.251624,
     "end_time": "2024-04-28T17:43:05.188874",
     "exception": false,
     "start_time": "2024-04-28T17:43:02.937250",
     "status": "completed"
    },
    "tags": []
   },
   "outputs": [],
   "source": []
  },
  {
   "cell_type": "code",
   "execution_count": null,
   "id": "88d93bef",
   "metadata": {
    "papermill": {
     "duration": 2.183326,
     "end_time": "2024-04-28T17:43:09.616349",
     "exception": false,
     "start_time": "2024-04-28T17:43:07.433023",
     "status": "completed"
    },
    "tags": []
   },
   "outputs": [],
   "source": []
  }
 ],
 "metadata": {
  "kaggle": {
   "accelerator": "nvidiaTeslaT4",
   "dataSources": [
    {
     "datasetId": 4898895,
     "sourceId": 8255219,
     "sourceType": "datasetVersion"
    }
   ],
   "dockerImageVersionId": 30699,
   "isGpuEnabled": true,
   "isInternetEnabled": true,
   "language": "python",
   "sourceType": "notebook"
  },
  "kernelspec": {
   "display_name": "Python 3",
   "language": "python",
   "name": "python3"
  },
  "language_info": {
   "codemirror_mode": {
    "name": "ipython",
    "version": 3
   },
   "file_extension": ".py",
   "mimetype": "text/x-python",
   "name": "python",
   "nbconvert_exporter": "python",
   "pygments_lexer": "ipython3",
   "version": "3.10.13"
  },
  "papermill": {
   "default_parameters": {},
   "duration": 2874.013992,
   "end_time": "2024-04-28T17:43:14.753125",
   "environment_variables": {},
   "exception": null,
   "input_path": "__notebook__.ipynb",
   "output_path": "__notebook__.ipynb",
   "parameters": {},
   "start_time": "2024-04-28T16:55:20.739133",
   "version": "2.5.0"
  }
 },
 "nbformat": 4,
 "nbformat_minor": 5
}
